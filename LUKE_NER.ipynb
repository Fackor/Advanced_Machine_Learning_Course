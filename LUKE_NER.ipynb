{
  "nbformat": 4,
  "nbformat_minor": 0,
  "metadata": {
    "accelerator": "GPU",
    "colab": {
      "name": "LUKE_NER.ipynb",
      "provenance": [],
      "collapsed_sections": [],
      "authorship_tag": "ABX9TyOGJsIzFTh1b5uDXEIW6iI4",
      "include_colab_link": true
    },
    "kernelspec": {
      "display_name": "Python 3",
      "name": "python3"
    }
  },
  "cells": [
    {
      "cell_type": "markdown",
      "metadata": {
        "id": "view-in-github",
        "colab_type": "text"
      },
      "source": [
        "<a href=\"https://colab.research.google.com/github/Fackor/Advanced_Machine_Learning_Course/blob/main/LUKE_NER.ipynb\" target=\"_parent\"><img src=\"https://colab.research.google.com/assets/colab-badge.svg\" alt=\"Open In Colab\"/></a>"
      ]
    },
    {
      "cell_type": "code",
      "metadata": {
        "id": "ieog2FAW4uRm"
      },
      "source": [
        "!git clone https://github.com/NVIDIA/apex.git\n",
        "%cd apex\n",
        "!git checkout c3fad1ad120b23055f6630da0b029c8b626db78f\n",
        "!pip install -v --no-cache-dir --global-option=\"--cpp_ext\" --global-option=\"--cuda_ext\" .\n",
        "%cd .."
      ],
      "execution_count": null,
      "outputs": []
    },
    {
      "cell_type": "code",
      "metadata": {
        "colab": {
          "base_uri": "https://localhost:8080/"
        },
        "id": "bLs0Y3wv5CPp",
        "outputId": "a0cb9250-4af6-4a97-fb12-a735e30ea165"
      },
      "source": [
        "!git clone https://github.com/studio-ousia/luke.git"
      ],
      "execution_count": 4,
      "outputs": [
        {
          "output_type": "stream",
          "text": [
            "fatal: destination path 'luke' already exists and is not an empty directory.\n"
          ],
          "name": "stdout"
        }
      ]
    },
    {
      "cell_type": "code",
      "metadata": {
        "colab": {
          "base_uri": "https://localhost:8080/"
        },
        "id": "UQrQQ33xJQ1u",
        "outputId": "4f340e9d-badc-4cb3-ab6f-37db969b86ba"
      },
      "source": [
        "#!pip install poetry\n",
        "%cd luke/\n",
        "!poetry install\n",
        "#%cd .."
      ],
      "execution_count": 3,
      "outputs": [
        {
          "output_type": "stream",
          "text": [
            "/content/luke\n",
            "\u001b[34mInstalling dependencies from lock file\u001b[0m\n",
            "\u001b[33;1mWarning: The lock file is not up to date with the latest changes in pyproject.toml. You may be getting outdated dependencies. Run update to update them.\u001b[0m\n",
            "\n",
            "No dependencies to install or update\n",
            "\n",
            "\u001b[1mInstalling\u001b[0m the current project: \u001b[36mluke\u001b[0m (\u001b[39;1m0.1.0\u001b[0m)\b\b\b\b\b\b\b\b\b\b\b\b\b\b\b\b\b\b\b\b\b\b\b\b\b\b\b\b\b\b\b\b\b\b\b\b\b\b\b\b\b\b\b\b\u001b[1mInstalling\u001b[0m the current project: \u001b[36mluke\u001b[0m (\u001b[32m0.1.0\u001b[0m)\n"
          ],
          "name": "stdout"
        }
      ]
    },
    {
      "cell_type": "code",
      "metadata": {
        "colab": {
          "base_uri": "https://localhost:8080/"
        },
        "id": "VlpOxccZK2-T",
        "outputId": "29caa94f-05b7-44a3-e802-2075467649b1"
      },
      "source": [
        "!python -m examples.cli --model-file=luke_large_500k.tar.gz --output-dir=/output ner run --data-dir=/content --fp16 --train-batch-size=2 --gradient-accumulation-steps=2 --learning-rate=1e-5 --num-train-epochs=5"
      ],
      "execution_count": 4,
      "outputs": [
        {
          "output_type": "stream",
          "text": [
            "2020-12-22 06:47:21.512339: I tensorflow/stream_executor/platform/default/dso_loader.cc:49] Successfully opened dynamic library libcudart.so.10.1\n",
            "Traceback (most recent call last):\n",
            "  File \"/usr/lib/python3.6/runpy.py\", line 193, in _run_module_as_main\n",
            "    \"__main__\", mod_spec)\n",
            "  File \"/usr/lib/python3.6/runpy.py\", line 85, in _run_code\n",
            "    exec(code, run_globals)\n",
            "  File \"/content/luke/examples/cli.py\", line 14, in <module>\n",
            "    from luke.utils.model_utils import ModelArchive\n",
            "  File \"/content/luke/luke/__init__.py\", line 3, in <module>\n",
            "    from .utils.model_utils import ModelArchive\n",
            "  File \"/content/luke/luke/utils/model_utils.py\", line 12, in <module>\n",
            "    from .entity_vocab import EntityVocab\n",
            "  File \"/content/luke/luke/utils/entity_vocab.py\", line 13, in <module>\n",
            "    from wikipedia2vec.dump_db import DumpDB\n",
            "ModuleNotFoundError: No module named 'wikipedia2vec'\n"
          ],
          "name": "stdout"
        }
      ]
    },
    {
      "cell_type": "code",
      "metadata": {
        "id": "KkyklK4eMEbp"
      },
      "source": [
        ""
      ],
      "execution_count": null,
      "outputs": []
    }
  ]
}