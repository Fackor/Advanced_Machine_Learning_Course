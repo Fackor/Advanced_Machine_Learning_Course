{
  "nbformat": 4,
  "nbformat_minor": 0,
  "metadata": {
    "colab": {
      "name": "Luke_Issue_with_Apex.ipynb",
      "provenance": [],
      "authorship_tag": "ABX9TyOnEg0azL/UFSFuVDBhudOj",
      "include_colab_link": true
    },
    "kernelspec": {
      "name": "python3",
      "display_name": "Python 3"
    }
  },
  "cells": [
    {
      "cell_type": "markdown",
      "metadata": {
        "id": "view-in-github",
        "colab_type": "text"
      },
      "source": [
        "<a href=\"https://colab.research.google.com/github/Fackor/Advanced_Machine_Learning_Course/blob/main/Luke_Issue_with_Apex.ipynb\" target=\"_parent\"><img src=\"https://colab.research.google.com/assets/colab-badge.svg\" alt=\"Open In Colab\"/></a>"
      ]
    },
    {
      "cell_type": "code",
      "metadata": {
        "id": "5To2Fu3LKYd6"
      },
      "source": [
        "#Install and download poetry.\n",
        "!pip install -q --pre poetry\n",
        "!poetry --version"
      ],
      "execution_count": null,
      "outputs": []
    },
    {
      "cell_type": "code",
      "metadata": {
        "id": "MMm_RnmzKcry"
      },
      "source": [
        "#Install Luke.\n",
        "!git clone https://github.com/Fackor/luke.git\n",
        "%cd luke/\n",
        "!poetry install\n",
        "%cd .."
      ],
      "execution_count": null,
      "outputs": []
    },
    {
      "cell_type": "code",
      "metadata": {
        "id": "wI8am6SDNLYe"
      },
      "source": [
        "#Download pretrained Luke.\n",
        "%cd luke/\n",
        "!gdown --id 1S7smSBELcZWV7-slfrb94BKcSCCoxGfL \n",
        "%cd .."
      ],
      "execution_count": null,
      "outputs": []
    },
    {
      "cell_type": "code",
      "metadata": {
        "id": "4YyXbPgNNM4U"
      },
      "source": [
        "# Run poetry shell.\n",
        "# Paste the following command into the poetry shell after\n",
        "# uploading the folder named \"upload\" at https://github.com/Fackor/Advanced_Machine_Learning_Course.\n",
        "# python -m examples.cli --model-file=luke_large_500k.tar.gz --output-dir=/content/output ner run --data-dir=/content/upload --fp16 --train-batch-size=2 --gradient-accumulation-steps=2 --learning-rate=1e-5 --num-train-epochs=5\n",
        "\n",
        "%cd luke\n",
        "!poetry shell\n",
        "%cd .."
      ],
      "execution_count": null,
      "outputs": []
    }
  ]
}