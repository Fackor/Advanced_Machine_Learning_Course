{
  "nbformat": 4,
  "nbformat_minor": 0,
  "metadata": {
    "colab": {
      "name": "Zero_Shot_Pipeline_for_NER.ipynb",
      "provenance": [],
      "collapsed_sections": [],
      "include_colab_link": true
    },
    "kernelspec": {
      "name": "python3",
      "display_name": "Python 3"
    },
    "accelerator": "GPU",
    "widgets": {
      "application/vnd.jupyter.widget-state+json": {
        "01ac362318314891b1a07f32c4e692ab": {
          "model_module": "@jupyter-widgets/controls",
          "model_name": "HBoxModel",
          "state": {
            "_view_name": "HBoxView",
            "_dom_classes": [],
            "_model_name": "HBoxModel",
            "_view_module": "@jupyter-widgets/controls",
            "_model_module_version": "1.5.0",
            "_view_count": null,
            "_view_module_version": "1.5.0",
            "box_style": "",
            "layout": "IPY_MODEL_ed16769572664d0593eca9893f10ba2a",
            "_model_module": "@jupyter-widgets/controls",
            "children": [
              "IPY_MODEL_51e24deab6c54435805c109cf1352fcc",
              "IPY_MODEL_05365cc7ef3e464b8ac4ce43628c1cab"
            ]
          }
        },
        "ed16769572664d0593eca9893f10ba2a": {
          "model_module": "@jupyter-widgets/base",
          "model_name": "LayoutModel",
          "state": {
            "_view_name": "LayoutView",
            "grid_template_rows": null,
            "right": null,
            "justify_content": null,
            "_view_module": "@jupyter-widgets/base",
            "overflow": null,
            "_model_module_version": "1.2.0",
            "_view_count": null,
            "flex_flow": null,
            "width": null,
            "min_width": null,
            "border": null,
            "align_items": null,
            "bottom": null,
            "_model_module": "@jupyter-widgets/base",
            "top": null,
            "grid_column": null,
            "overflow_y": null,
            "overflow_x": null,
            "grid_auto_flow": null,
            "grid_area": null,
            "grid_template_columns": null,
            "flex": null,
            "_model_name": "LayoutModel",
            "justify_items": null,
            "grid_row": null,
            "max_height": null,
            "align_content": null,
            "visibility": null,
            "align_self": null,
            "height": null,
            "min_height": null,
            "padding": null,
            "grid_auto_rows": null,
            "grid_gap": null,
            "max_width": null,
            "order": null,
            "_view_module_version": "1.2.0",
            "grid_template_areas": null,
            "object_position": null,
            "object_fit": null,
            "grid_auto_columns": null,
            "margin": null,
            "display": null,
            "left": null
          }
        },
        "51e24deab6c54435805c109cf1352fcc": {
          "model_module": "@jupyter-widgets/controls",
          "model_name": "FloatProgressModel",
          "state": {
            "_view_name": "ProgressView",
            "style": "IPY_MODEL_a914dd79aa7b488da082858b775c82f0",
            "_dom_classes": [],
            "description": "Downloading: 100%",
            "_model_name": "FloatProgressModel",
            "bar_style": "success",
            "max": 908,
            "_view_module": "@jupyter-widgets/controls",
            "_model_module_version": "1.5.0",
            "value": 908,
            "_view_count": null,
            "_view_module_version": "1.5.0",
            "orientation": "horizontal",
            "min": 0,
            "description_tooltip": null,
            "_model_module": "@jupyter-widgets/controls",
            "layout": "IPY_MODEL_eda026412514433a8a1d3eaa1045c32e"
          }
        },
        "05365cc7ef3e464b8ac4ce43628c1cab": {
          "model_module": "@jupyter-widgets/controls",
          "model_name": "HTMLModel",
          "state": {
            "_view_name": "HTMLView",
            "style": "IPY_MODEL_3ef79d74508041d7a0940067d09da3f3",
            "_dom_classes": [],
            "description": "",
            "_model_name": "HTMLModel",
            "placeholder": "​",
            "_view_module": "@jupyter-widgets/controls",
            "_model_module_version": "1.5.0",
            "value": " 908/908 [00:00&lt;00:00, 7.09kB/s]",
            "_view_count": null,
            "_view_module_version": "1.5.0",
            "description_tooltip": null,
            "_model_module": "@jupyter-widgets/controls",
            "layout": "IPY_MODEL_a4f67162f02241d7976e0d20268b4282"
          }
        },
        "a914dd79aa7b488da082858b775c82f0": {
          "model_module": "@jupyter-widgets/controls",
          "model_name": "ProgressStyleModel",
          "state": {
            "_view_name": "StyleView",
            "_model_name": "ProgressStyleModel",
            "description_width": "initial",
            "_view_module": "@jupyter-widgets/base",
            "_model_module_version": "1.5.0",
            "_view_count": null,
            "_view_module_version": "1.2.0",
            "bar_color": null,
            "_model_module": "@jupyter-widgets/controls"
          }
        },
        "eda026412514433a8a1d3eaa1045c32e": {
          "model_module": "@jupyter-widgets/base",
          "model_name": "LayoutModel",
          "state": {
            "_view_name": "LayoutView",
            "grid_template_rows": null,
            "right": null,
            "justify_content": null,
            "_view_module": "@jupyter-widgets/base",
            "overflow": null,
            "_model_module_version": "1.2.0",
            "_view_count": null,
            "flex_flow": null,
            "width": null,
            "min_width": null,
            "border": null,
            "align_items": null,
            "bottom": null,
            "_model_module": "@jupyter-widgets/base",
            "top": null,
            "grid_column": null,
            "overflow_y": null,
            "overflow_x": null,
            "grid_auto_flow": null,
            "grid_area": null,
            "grid_template_columns": null,
            "flex": null,
            "_model_name": "LayoutModel",
            "justify_items": null,
            "grid_row": null,
            "max_height": null,
            "align_content": null,
            "visibility": null,
            "align_self": null,
            "height": null,
            "min_height": null,
            "padding": null,
            "grid_auto_rows": null,
            "grid_gap": null,
            "max_width": null,
            "order": null,
            "_view_module_version": "1.2.0",
            "grid_template_areas": null,
            "object_position": null,
            "object_fit": null,
            "grid_auto_columns": null,
            "margin": null,
            "display": null,
            "left": null
          }
        },
        "3ef79d74508041d7a0940067d09da3f3": {
          "model_module": "@jupyter-widgets/controls",
          "model_name": "DescriptionStyleModel",
          "state": {
            "_view_name": "StyleView",
            "_model_name": "DescriptionStyleModel",
            "description_width": "",
            "_view_module": "@jupyter-widgets/base",
            "_model_module_version": "1.5.0",
            "_view_count": null,
            "_view_module_version": "1.2.0",
            "_model_module": "@jupyter-widgets/controls"
          }
        },
        "a4f67162f02241d7976e0d20268b4282": {
          "model_module": "@jupyter-widgets/base",
          "model_name": "LayoutModel",
          "state": {
            "_view_name": "LayoutView",
            "grid_template_rows": null,
            "right": null,
            "justify_content": null,
            "_view_module": "@jupyter-widgets/base",
            "overflow": null,
            "_model_module_version": "1.2.0",
            "_view_count": null,
            "flex_flow": null,
            "width": null,
            "min_width": null,
            "border": null,
            "align_items": null,
            "bottom": null,
            "_model_module": "@jupyter-widgets/base",
            "top": null,
            "grid_column": null,
            "overflow_y": null,
            "overflow_x": null,
            "grid_auto_flow": null,
            "grid_area": null,
            "grid_template_columns": null,
            "flex": null,
            "_model_name": "LayoutModel",
            "justify_items": null,
            "grid_row": null,
            "max_height": null,
            "align_content": null,
            "visibility": null,
            "align_self": null,
            "height": null,
            "min_height": null,
            "padding": null,
            "grid_auto_rows": null,
            "grid_gap": null,
            "max_width": null,
            "order": null,
            "_view_module_version": "1.2.0",
            "grid_template_areas": null,
            "object_position": null,
            "object_fit": null,
            "grid_auto_columns": null,
            "margin": null,
            "display": null,
            "left": null
          }
        },
        "dca7068841fd4722b69c107df8066667": {
          "model_module": "@jupyter-widgets/controls",
          "model_name": "HBoxModel",
          "state": {
            "_view_name": "HBoxView",
            "_dom_classes": [],
            "_model_name": "HBoxModel",
            "_view_module": "@jupyter-widgets/controls",
            "_model_module_version": "1.5.0",
            "_view_count": null,
            "_view_module_version": "1.5.0",
            "box_style": "",
            "layout": "IPY_MODEL_9e7e15cab1924580a7857d3de01c335b",
            "_model_module": "@jupyter-widgets/controls",
            "children": [
              "IPY_MODEL_261f10714d8a445298d9625e9517baaa",
              "IPY_MODEL_b5620b965d2c4ea6aa4bb1f401479f6f"
            ]
          }
        },
        "9e7e15cab1924580a7857d3de01c335b": {
          "model_module": "@jupyter-widgets/base",
          "model_name": "LayoutModel",
          "state": {
            "_view_name": "LayoutView",
            "grid_template_rows": null,
            "right": null,
            "justify_content": null,
            "_view_module": "@jupyter-widgets/base",
            "overflow": null,
            "_model_module_version": "1.2.0",
            "_view_count": null,
            "flex_flow": null,
            "width": null,
            "min_width": null,
            "border": null,
            "align_items": null,
            "bottom": null,
            "_model_module": "@jupyter-widgets/base",
            "top": null,
            "grid_column": null,
            "overflow_y": null,
            "overflow_x": null,
            "grid_auto_flow": null,
            "grid_area": null,
            "grid_template_columns": null,
            "flex": null,
            "_model_name": "LayoutModel",
            "justify_items": null,
            "grid_row": null,
            "max_height": null,
            "align_content": null,
            "visibility": null,
            "align_self": null,
            "height": null,
            "min_height": null,
            "padding": null,
            "grid_auto_rows": null,
            "grid_gap": null,
            "max_width": null,
            "order": null,
            "_view_module_version": "1.2.0",
            "grid_template_areas": null,
            "object_position": null,
            "object_fit": null,
            "grid_auto_columns": null,
            "margin": null,
            "display": null,
            "left": null
          }
        },
        "261f10714d8a445298d9625e9517baaa": {
          "model_module": "@jupyter-widgets/controls",
          "model_name": "FloatProgressModel",
          "state": {
            "_view_name": "ProgressView",
            "style": "IPY_MODEL_5f3eb66a1d1c47ba88776fa6842c252a",
            "_dom_classes": [],
            "description": "Downloading: 100%",
            "_model_name": "FloatProgressModel",
            "bar_style": "success",
            "max": 898823,
            "_view_module": "@jupyter-widgets/controls",
            "_model_module_version": "1.5.0",
            "value": 898823,
            "_view_count": null,
            "_view_module_version": "1.5.0",
            "orientation": "horizontal",
            "min": 0,
            "description_tooltip": null,
            "_model_module": "@jupyter-widgets/controls",
            "layout": "IPY_MODEL_4dd776b4756b479ca59ba4733ae61277"
          }
        },
        "b5620b965d2c4ea6aa4bb1f401479f6f": {
          "model_module": "@jupyter-widgets/controls",
          "model_name": "HTMLModel",
          "state": {
            "_view_name": "HTMLView",
            "style": "IPY_MODEL_8319497703154199b4ce42a630a8a929",
            "_dom_classes": [],
            "description": "",
            "_model_name": "HTMLModel",
            "placeholder": "​",
            "_view_module": "@jupyter-widgets/controls",
            "_model_module_version": "1.5.0",
            "value": " 899k/899k [00:00&lt;00:00, 4.03MB/s]",
            "_view_count": null,
            "_view_module_version": "1.5.0",
            "description_tooltip": null,
            "_model_module": "@jupyter-widgets/controls",
            "layout": "IPY_MODEL_51ecd29167144bb7929ec5330de27546"
          }
        },
        "5f3eb66a1d1c47ba88776fa6842c252a": {
          "model_module": "@jupyter-widgets/controls",
          "model_name": "ProgressStyleModel",
          "state": {
            "_view_name": "StyleView",
            "_model_name": "ProgressStyleModel",
            "description_width": "initial",
            "_view_module": "@jupyter-widgets/base",
            "_model_module_version": "1.5.0",
            "_view_count": null,
            "_view_module_version": "1.2.0",
            "bar_color": null,
            "_model_module": "@jupyter-widgets/controls"
          }
        },
        "4dd776b4756b479ca59ba4733ae61277": {
          "model_module": "@jupyter-widgets/base",
          "model_name": "LayoutModel",
          "state": {
            "_view_name": "LayoutView",
            "grid_template_rows": null,
            "right": null,
            "justify_content": null,
            "_view_module": "@jupyter-widgets/base",
            "overflow": null,
            "_model_module_version": "1.2.0",
            "_view_count": null,
            "flex_flow": null,
            "width": null,
            "min_width": null,
            "border": null,
            "align_items": null,
            "bottom": null,
            "_model_module": "@jupyter-widgets/base",
            "top": null,
            "grid_column": null,
            "overflow_y": null,
            "overflow_x": null,
            "grid_auto_flow": null,
            "grid_area": null,
            "grid_template_columns": null,
            "flex": null,
            "_model_name": "LayoutModel",
            "justify_items": null,
            "grid_row": null,
            "max_height": null,
            "align_content": null,
            "visibility": null,
            "align_self": null,
            "height": null,
            "min_height": null,
            "padding": null,
            "grid_auto_rows": null,
            "grid_gap": null,
            "max_width": null,
            "order": null,
            "_view_module_version": "1.2.0",
            "grid_template_areas": null,
            "object_position": null,
            "object_fit": null,
            "grid_auto_columns": null,
            "margin": null,
            "display": null,
            "left": null
          }
        },
        "8319497703154199b4ce42a630a8a929": {
          "model_module": "@jupyter-widgets/controls",
          "model_name": "DescriptionStyleModel",
          "state": {
            "_view_name": "StyleView",
            "_model_name": "DescriptionStyleModel",
            "description_width": "",
            "_view_module": "@jupyter-widgets/base",
            "_model_module_version": "1.5.0",
            "_view_count": null,
            "_view_module_version": "1.2.0",
            "_model_module": "@jupyter-widgets/controls"
          }
        },
        "51ecd29167144bb7929ec5330de27546": {
          "model_module": "@jupyter-widgets/base",
          "model_name": "LayoutModel",
          "state": {
            "_view_name": "LayoutView",
            "grid_template_rows": null,
            "right": null,
            "justify_content": null,
            "_view_module": "@jupyter-widgets/base",
            "overflow": null,
            "_model_module_version": "1.2.0",
            "_view_count": null,
            "flex_flow": null,
            "width": null,
            "min_width": null,
            "border": null,
            "align_items": null,
            "bottom": null,
            "_model_module": "@jupyter-widgets/base",
            "top": null,
            "grid_column": null,
            "overflow_y": null,
            "overflow_x": null,
            "grid_auto_flow": null,
            "grid_area": null,
            "grid_template_columns": null,
            "flex": null,
            "_model_name": "LayoutModel",
            "justify_items": null,
            "grid_row": null,
            "max_height": null,
            "align_content": null,
            "visibility": null,
            "align_self": null,
            "height": null,
            "min_height": null,
            "padding": null,
            "grid_auto_rows": null,
            "grid_gap": null,
            "max_width": null,
            "order": null,
            "_view_module_version": "1.2.0",
            "grid_template_areas": null,
            "object_position": null,
            "object_fit": null,
            "grid_auto_columns": null,
            "margin": null,
            "display": null,
            "left": null
          }
        },
        "1522523a6d8f403e9f1f90e9d514de14": {
          "model_module": "@jupyter-widgets/controls",
          "model_name": "HBoxModel",
          "state": {
            "_view_name": "HBoxView",
            "_dom_classes": [],
            "_model_name": "HBoxModel",
            "_view_module": "@jupyter-widgets/controls",
            "_model_module_version": "1.5.0",
            "_view_count": null,
            "_view_module_version": "1.5.0",
            "box_style": "",
            "layout": "IPY_MODEL_40a029c7245f450e8046cf9b708d6196",
            "_model_module": "@jupyter-widgets/controls",
            "children": [
              "IPY_MODEL_551c1a4b7986454499914b8c217b0936",
              "IPY_MODEL_d36e0c67f3214618958155d009187dc3"
            ]
          }
        },
        "40a029c7245f450e8046cf9b708d6196": {
          "model_module": "@jupyter-widgets/base",
          "model_name": "LayoutModel",
          "state": {
            "_view_name": "LayoutView",
            "grid_template_rows": null,
            "right": null,
            "justify_content": null,
            "_view_module": "@jupyter-widgets/base",
            "overflow": null,
            "_model_module_version": "1.2.0",
            "_view_count": null,
            "flex_flow": null,
            "width": null,
            "min_width": null,
            "border": null,
            "align_items": null,
            "bottom": null,
            "_model_module": "@jupyter-widgets/base",
            "top": null,
            "grid_column": null,
            "overflow_y": null,
            "overflow_x": null,
            "grid_auto_flow": null,
            "grid_area": null,
            "grid_template_columns": null,
            "flex": null,
            "_model_name": "LayoutModel",
            "justify_items": null,
            "grid_row": null,
            "max_height": null,
            "align_content": null,
            "visibility": null,
            "align_self": null,
            "height": null,
            "min_height": null,
            "padding": null,
            "grid_auto_rows": null,
            "grid_gap": null,
            "max_width": null,
            "order": null,
            "_view_module_version": "1.2.0",
            "grid_template_areas": null,
            "object_position": null,
            "object_fit": null,
            "grid_auto_columns": null,
            "margin": null,
            "display": null,
            "left": null
          }
        },
        "551c1a4b7986454499914b8c217b0936": {
          "model_module": "@jupyter-widgets/controls",
          "model_name": "FloatProgressModel",
          "state": {
            "_view_name": "ProgressView",
            "style": "IPY_MODEL_39582361c0844bf2a276416f5c83989e",
            "_dom_classes": [],
            "description": "Downloading: 100%",
            "_model_name": "FloatProgressModel",
            "bar_style": "success",
            "max": 456318,
            "_view_module": "@jupyter-widgets/controls",
            "_model_module_version": "1.5.0",
            "value": 456318,
            "_view_count": null,
            "_view_module_version": "1.5.0",
            "orientation": "horizontal",
            "min": 0,
            "description_tooltip": null,
            "_model_module": "@jupyter-widgets/controls",
            "layout": "IPY_MODEL_6c46a325effe48899a83b84904a73f86"
          }
        },
        "d36e0c67f3214618958155d009187dc3": {
          "model_module": "@jupyter-widgets/controls",
          "model_name": "HTMLModel",
          "state": {
            "_view_name": "HTMLView",
            "style": "IPY_MODEL_45aa0a4b84ad49b8921507ea6f9ca35f",
            "_dom_classes": [],
            "description": "",
            "_model_name": "HTMLModel",
            "placeholder": "​",
            "_view_module": "@jupyter-widgets/controls",
            "_model_module_version": "1.5.0",
            "value": " 456k/456k [00:00&lt;00:00, 5.35MB/s]",
            "_view_count": null,
            "_view_module_version": "1.5.0",
            "description_tooltip": null,
            "_model_module": "@jupyter-widgets/controls",
            "layout": "IPY_MODEL_2c50b7c052e546a39cf224f9f48b00fb"
          }
        },
        "39582361c0844bf2a276416f5c83989e": {
          "model_module": "@jupyter-widgets/controls",
          "model_name": "ProgressStyleModel",
          "state": {
            "_view_name": "StyleView",
            "_model_name": "ProgressStyleModel",
            "description_width": "initial",
            "_view_module": "@jupyter-widgets/base",
            "_model_module_version": "1.5.0",
            "_view_count": null,
            "_view_module_version": "1.2.0",
            "bar_color": null,
            "_model_module": "@jupyter-widgets/controls"
          }
        },
        "6c46a325effe48899a83b84904a73f86": {
          "model_module": "@jupyter-widgets/base",
          "model_name": "LayoutModel",
          "state": {
            "_view_name": "LayoutView",
            "grid_template_rows": null,
            "right": null,
            "justify_content": null,
            "_view_module": "@jupyter-widgets/base",
            "overflow": null,
            "_model_module_version": "1.2.0",
            "_view_count": null,
            "flex_flow": null,
            "width": null,
            "min_width": null,
            "border": null,
            "align_items": null,
            "bottom": null,
            "_model_module": "@jupyter-widgets/base",
            "top": null,
            "grid_column": null,
            "overflow_y": null,
            "overflow_x": null,
            "grid_auto_flow": null,
            "grid_area": null,
            "grid_template_columns": null,
            "flex": null,
            "_model_name": "LayoutModel",
            "justify_items": null,
            "grid_row": null,
            "max_height": null,
            "align_content": null,
            "visibility": null,
            "align_self": null,
            "height": null,
            "min_height": null,
            "padding": null,
            "grid_auto_rows": null,
            "grid_gap": null,
            "max_width": null,
            "order": null,
            "_view_module_version": "1.2.0",
            "grid_template_areas": null,
            "object_position": null,
            "object_fit": null,
            "grid_auto_columns": null,
            "margin": null,
            "display": null,
            "left": null
          }
        },
        "45aa0a4b84ad49b8921507ea6f9ca35f": {
          "model_module": "@jupyter-widgets/controls",
          "model_name": "DescriptionStyleModel",
          "state": {
            "_view_name": "StyleView",
            "_model_name": "DescriptionStyleModel",
            "description_width": "",
            "_view_module": "@jupyter-widgets/base",
            "_model_module_version": "1.5.0",
            "_view_count": null,
            "_view_module_version": "1.2.0",
            "_model_module": "@jupyter-widgets/controls"
          }
        },
        "2c50b7c052e546a39cf224f9f48b00fb": {
          "model_module": "@jupyter-widgets/base",
          "model_name": "LayoutModel",
          "state": {
            "_view_name": "LayoutView",
            "grid_template_rows": null,
            "right": null,
            "justify_content": null,
            "_view_module": "@jupyter-widgets/base",
            "overflow": null,
            "_model_module_version": "1.2.0",
            "_view_count": null,
            "flex_flow": null,
            "width": null,
            "min_width": null,
            "border": null,
            "align_items": null,
            "bottom": null,
            "_model_module": "@jupyter-widgets/base",
            "top": null,
            "grid_column": null,
            "overflow_y": null,
            "overflow_x": null,
            "grid_auto_flow": null,
            "grid_area": null,
            "grid_template_columns": null,
            "flex": null,
            "_model_name": "LayoutModel",
            "justify_items": null,
            "grid_row": null,
            "max_height": null,
            "align_content": null,
            "visibility": null,
            "align_self": null,
            "height": null,
            "min_height": null,
            "padding": null,
            "grid_auto_rows": null,
            "grid_gap": null,
            "max_width": null,
            "order": null,
            "_view_module_version": "1.2.0",
            "grid_template_areas": null,
            "object_position": null,
            "object_fit": null,
            "grid_auto_columns": null,
            "margin": null,
            "display": null,
            "left": null
          }
        },
        "ddfbdbde0b5b4fbe9fc48931ad8211f6": {
          "model_module": "@jupyter-widgets/controls",
          "model_name": "HBoxModel",
          "state": {
            "_view_name": "HBoxView",
            "_dom_classes": [],
            "_model_name": "HBoxModel",
            "_view_module": "@jupyter-widgets/controls",
            "_model_module_version": "1.5.0",
            "_view_count": null,
            "_view_module_version": "1.5.0",
            "box_style": "",
            "layout": "IPY_MODEL_4e6b062b16724fbdb0fe2ba9b2197b71",
            "_model_module": "@jupyter-widgets/controls",
            "children": [
              "IPY_MODEL_153d84d6890c46b7ad39d64d5bc8e971",
              "IPY_MODEL_8fa0a59e0db74ed3a5f505254722227c"
            ]
          }
        },
        "4e6b062b16724fbdb0fe2ba9b2197b71": {
          "model_module": "@jupyter-widgets/base",
          "model_name": "LayoutModel",
          "state": {
            "_view_name": "LayoutView",
            "grid_template_rows": null,
            "right": null,
            "justify_content": null,
            "_view_module": "@jupyter-widgets/base",
            "overflow": null,
            "_model_module_version": "1.2.0",
            "_view_count": null,
            "flex_flow": null,
            "width": null,
            "min_width": null,
            "border": null,
            "align_items": null,
            "bottom": null,
            "_model_module": "@jupyter-widgets/base",
            "top": null,
            "grid_column": null,
            "overflow_y": null,
            "overflow_x": null,
            "grid_auto_flow": null,
            "grid_area": null,
            "grid_template_columns": null,
            "flex": null,
            "_model_name": "LayoutModel",
            "justify_items": null,
            "grid_row": null,
            "max_height": null,
            "align_content": null,
            "visibility": null,
            "align_self": null,
            "height": null,
            "min_height": null,
            "padding": null,
            "grid_auto_rows": null,
            "grid_gap": null,
            "max_width": null,
            "order": null,
            "_view_module_version": "1.2.0",
            "grid_template_areas": null,
            "object_position": null,
            "object_fit": null,
            "grid_auto_columns": null,
            "margin": null,
            "display": null,
            "left": null
          }
        },
        "153d84d6890c46b7ad39d64d5bc8e971": {
          "model_module": "@jupyter-widgets/controls",
          "model_name": "FloatProgressModel",
          "state": {
            "_view_name": "ProgressView",
            "style": "IPY_MODEL_4e615be9f4274f30b9ca54a3ae9e419b",
            "_dom_classes": [],
            "description": "Downloading: 100%",
            "_model_name": "FloatProgressModel",
            "bar_style": "success",
            "max": 1629486723,
            "_view_module": "@jupyter-widgets/controls",
            "_model_module_version": "1.5.0",
            "value": 1629486723,
            "_view_count": null,
            "_view_module_version": "1.5.0",
            "orientation": "horizontal",
            "min": 0,
            "description_tooltip": null,
            "_model_module": "@jupyter-widgets/controls",
            "layout": "IPY_MODEL_fe8bfc086ad848659eff1507dbfe88ca"
          }
        },
        "8fa0a59e0db74ed3a5f505254722227c": {
          "model_module": "@jupyter-widgets/controls",
          "model_name": "HTMLModel",
          "state": {
            "_view_name": "HTMLView",
            "style": "IPY_MODEL_41c34fde920240af9b3fad64a99c89dd",
            "_dom_classes": [],
            "description": "",
            "_model_name": "HTMLModel",
            "placeholder": "​",
            "_view_module": "@jupyter-widgets/controls",
            "_model_module_version": "1.5.0",
            "value": " 1.63G/1.63G [00:28&lt;00:00, 56.3MB/s]",
            "_view_count": null,
            "_view_module_version": "1.5.0",
            "description_tooltip": null,
            "_model_module": "@jupyter-widgets/controls",
            "layout": "IPY_MODEL_4b10f2d45f284e289edf4296a38d54f2"
          }
        },
        "4e615be9f4274f30b9ca54a3ae9e419b": {
          "model_module": "@jupyter-widgets/controls",
          "model_name": "ProgressStyleModel",
          "state": {
            "_view_name": "StyleView",
            "_model_name": "ProgressStyleModel",
            "description_width": "initial",
            "_view_module": "@jupyter-widgets/base",
            "_model_module_version": "1.5.0",
            "_view_count": null,
            "_view_module_version": "1.2.0",
            "bar_color": null,
            "_model_module": "@jupyter-widgets/controls"
          }
        },
        "fe8bfc086ad848659eff1507dbfe88ca": {
          "model_module": "@jupyter-widgets/base",
          "model_name": "LayoutModel",
          "state": {
            "_view_name": "LayoutView",
            "grid_template_rows": null,
            "right": null,
            "justify_content": null,
            "_view_module": "@jupyter-widgets/base",
            "overflow": null,
            "_model_module_version": "1.2.0",
            "_view_count": null,
            "flex_flow": null,
            "width": null,
            "min_width": null,
            "border": null,
            "align_items": null,
            "bottom": null,
            "_model_module": "@jupyter-widgets/base",
            "top": null,
            "grid_column": null,
            "overflow_y": null,
            "overflow_x": null,
            "grid_auto_flow": null,
            "grid_area": null,
            "grid_template_columns": null,
            "flex": null,
            "_model_name": "LayoutModel",
            "justify_items": null,
            "grid_row": null,
            "max_height": null,
            "align_content": null,
            "visibility": null,
            "align_self": null,
            "height": null,
            "min_height": null,
            "padding": null,
            "grid_auto_rows": null,
            "grid_gap": null,
            "max_width": null,
            "order": null,
            "_view_module_version": "1.2.0",
            "grid_template_areas": null,
            "object_position": null,
            "object_fit": null,
            "grid_auto_columns": null,
            "margin": null,
            "display": null,
            "left": null
          }
        },
        "41c34fde920240af9b3fad64a99c89dd": {
          "model_module": "@jupyter-widgets/controls",
          "model_name": "DescriptionStyleModel",
          "state": {
            "_view_name": "StyleView",
            "_model_name": "DescriptionStyleModel",
            "description_width": "",
            "_view_module": "@jupyter-widgets/base",
            "_model_module_version": "1.5.0",
            "_view_count": null,
            "_view_module_version": "1.2.0",
            "_model_module": "@jupyter-widgets/controls"
          }
        },
        "4b10f2d45f284e289edf4296a38d54f2": {
          "model_module": "@jupyter-widgets/base",
          "model_name": "LayoutModel",
          "state": {
            "_view_name": "LayoutView",
            "grid_template_rows": null,
            "right": null,
            "justify_content": null,
            "_view_module": "@jupyter-widgets/base",
            "overflow": null,
            "_model_module_version": "1.2.0",
            "_view_count": null,
            "flex_flow": null,
            "width": null,
            "min_width": null,
            "border": null,
            "align_items": null,
            "bottom": null,
            "_model_module": "@jupyter-widgets/base",
            "top": null,
            "grid_column": null,
            "overflow_y": null,
            "overflow_x": null,
            "grid_auto_flow": null,
            "grid_area": null,
            "grid_template_columns": null,
            "flex": null,
            "_model_name": "LayoutModel",
            "justify_items": null,
            "grid_row": null,
            "max_height": null,
            "align_content": null,
            "visibility": null,
            "align_self": null,
            "height": null,
            "min_height": null,
            "padding": null,
            "grid_auto_rows": null,
            "grid_gap": null,
            "max_width": null,
            "order": null,
            "_view_module_version": "1.2.0",
            "grid_template_areas": null,
            "object_position": null,
            "object_fit": null,
            "grid_auto_columns": null,
            "margin": null,
            "display": null,
            "left": null
          }
        }
      }
    }
  },
  "cells": [
    {
      "cell_type": "markdown",
      "metadata": {
        "id": "view-in-github",
        "colab_type": "text"
      },
      "source": [
        "<a href=\"https://colab.research.google.com/github/Fackor/Advanced_Machine_Learning_Course/blob/main/Zero_Shot_Pipeline_for_NER.ipynb\" target=\"_parent\"><img src=\"https://colab.research.google.com/assets/colab-badge.svg\" alt=\"Open In Colab\"/></a>"
      ]
    },
    {
      "cell_type": "code",
      "metadata": {
        "id": "yTBP_QYuu6tc",
        "colab": {
          "base_uri": "https://localhost:8080/"
        },
        "outputId": "256e57ab-0aad-49fd-c57c-3abbf37f241b"
      },
      "source": [
        "!pip install transformers==3.1.0"
      ],
      "execution_count": 1,
      "outputs": [
        {
          "output_type": "stream",
          "text": [
            "Collecting transformers==3.1.0\n",
            "\u001b[?25l  Downloading https://files.pythonhosted.org/packages/ae/05/c8c55b600308dc04e95100dc8ad8a244dd800fe75dfafcf1d6348c6f6209/transformers-3.1.0-py3-none-any.whl (884kB)\n",
            "\r\u001b[K     |▍                               | 10kB 22.4MB/s eta 0:00:01\r\u001b[K     |▊                               | 20kB 29.1MB/s eta 0:00:01\r\u001b[K     |█▏                              | 30kB 20.4MB/s eta 0:00:01\r\u001b[K     |█▌                              | 40kB 23.8MB/s eta 0:00:01\r\u001b[K     |█▉                              | 51kB 23.7MB/s eta 0:00:01\r\u001b[K     |██▎                             | 61kB 17.3MB/s eta 0:00:01\r\u001b[K     |██▋                             | 71kB 17.5MB/s eta 0:00:01\r\u001b[K     |███                             | 81kB 18.5MB/s eta 0:00:01\r\u001b[K     |███▍                            | 92kB 17.5MB/s eta 0:00:01\r\u001b[K     |███▊                            | 102kB 17.2MB/s eta 0:00:01\r\u001b[K     |████                            | 112kB 17.2MB/s eta 0:00:01\r\u001b[K     |████▌                           | 122kB 17.2MB/s eta 0:00:01\r\u001b[K     |████▉                           | 133kB 17.2MB/s eta 0:00:01\r\u001b[K     |█████▏                          | 143kB 17.2MB/s eta 0:00:01\r\u001b[K     |█████▋                          | 153kB 17.2MB/s eta 0:00:01\r\u001b[K     |██████                          | 163kB 17.2MB/s eta 0:00:01\r\u001b[K     |██████▎                         | 174kB 17.2MB/s eta 0:00:01\r\u001b[K     |██████▊                         | 184kB 17.2MB/s eta 0:00:01\r\u001b[K     |███████                         | 194kB 17.2MB/s eta 0:00:01\r\u001b[K     |███████▍                        | 204kB 17.2MB/s eta 0:00:01\r\u001b[K     |███████▉                        | 215kB 17.2MB/s eta 0:00:01\r\u001b[K     |████████▏                       | 225kB 17.2MB/s eta 0:00:01\r\u001b[K     |████████▌                       | 235kB 17.2MB/s eta 0:00:01\r\u001b[K     |█████████                       | 245kB 17.2MB/s eta 0:00:01\r\u001b[K     |█████████▎                      | 256kB 17.2MB/s eta 0:00:01\r\u001b[K     |█████████▋                      | 266kB 17.2MB/s eta 0:00:01\r\u001b[K     |██████████                      | 276kB 17.2MB/s eta 0:00:01\r\u001b[K     |██████████▍                     | 286kB 17.2MB/s eta 0:00:01\r\u001b[K     |██████████▊                     | 296kB 17.2MB/s eta 0:00:01\r\u001b[K     |███████████▏                    | 307kB 17.2MB/s eta 0:00:01\r\u001b[K     |███████████▌                    | 317kB 17.2MB/s eta 0:00:01\r\u001b[K     |███████████▉                    | 327kB 17.2MB/s eta 0:00:01\r\u001b[K     |████████████▎                   | 337kB 17.2MB/s eta 0:00:01\r\u001b[K     |████████████▋                   | 348kB 17.2MB/s eta 0:00:01\r\u001b[K     |█████████████                   | 358kB 17.2MB/s eta 0:00:01\r\u001b[K     |█████████████▍                  | 368kB 17.2MB/s eta 0:00:01\r\u001b[K     |█████████████▊                  | 378kB 17.2MB/s eta 0:00:01\r\u001b[K     |██████████████                  | 389kB 17.2MB/s eta 0:00:01\r\u001b[K     |██████████████▌                 | 399kB 17.2MB/s eta 0:00:01\r\u001b[K     |██████████████▉                 | 409kB 17.2MB/s eta 0:00:01\r\u001b[K     |███████████████▏                | 419kB 17.2MB/s eta 0:00:01\r\u001b[K     |███████████████▋                | 430kB 17.2MB/s eta 0:00:01\r\u001b[K     |████████████████                | 440kB 17.2MB/s eta 0:00:01\r\u001b[K     |████████████████▎               | 450kB 17.2MB/s eta 0:00:01\r\u001b[K     |████████████████▊               | 460kB 17.2MB/s eta 0:00:01\r\u001b[K     |█████████████████               | 471kB 17.2MB/s eta 0:00:01\r\u001b[K     |█████████████████▍              | 481kB 17.2MB/s eta 0:00:01\r\u001b[K     |█████████████████▉              | 491kB 17.2MB/s eta 0:00:01\r\u001b[K     |██████████████████▏             | 501kB 17.2MB/s eta 0:00:01\r\u001b[K     |██████████████████▌             | 512kB 17.2MB/s eta 0:00:01\r\u001b[K     |███████████████████             | 522kB 17.2MB/s eta 0:00:01\r\u001b[K     |███████████████████▎            | 532kB 17.2MB/s eta 0:00:01\r\u001b[K     |███████████████████▋            | 542kB 17.2MB/s eta 0:00:01\r\u001b[K     |████████████████████            | 552kB 17.2MB/s eta 0:00:01\r\u001b[K     |████████████████████▍           | 563kB 17.2MB/s eta 0:00:01\r\u001b[K     |████████████████████▊           | 573kB 17.2MB/s eta 0:00:01\r\u001b[K     |█████████████████████▏          | 583kB 17.2MB/s eta 0:00:01\r\u001b[K     |█████████████████████▌          | 593kB 17.2MB/s eta 0:00:01\r\u001b[K     |█████████████████████▉          | 604kB 17.2MB/s eta 0:00:01\r\u001b[K     |██████████████████████▎         | 614kB 17.2MB/s eta 0:00:01\r\u001b[K     |██████████████████████▋         | 624kB 17.2MB/s eta 0:00:01\r\u001b[K     |███████████████████████         | 634kB 17.2MB/s eta 0:00:01\r\u001b[K     |███████████████████████▍        | 645kB 17.2MB/s eta 0:00:01\r\u001b[K     |███████████████████████▊        | 655kB 17.2MB/s eta 0:00:01\r\u001b[K     |████████████████████████        | 665kB 17.2MB/s eta 0:00:01\r\u001b[K     |████████████████████████▌       | 675kB 17.2MB/s eta 0:00:01\r\u001b[K     |████████████████████████▉       | 686kB 17.2MB/s eta 0:00:01\r\u001b[K     |█████████████████████████▏      | 696kB 17.2MB/s eta 0:00:01\r\u001b[K     |█████████████████████████▋      | 706kB 17.2MB/s eta 0:00:01\r\u001b[K     |██████████████████████████      | 716kB 17.2MB/s eta 0:00:01\r\u001b[K     |██████████████████████████▎     | 727kB 17.2MB/s eta 0:00:01\r\u001b[K     |██████████████████████████▊     | 737kB 17.2MB/s eta 0:00:01\r\u001b[K     |███████████████████████████     | 747kB 17.2MB/s eta 0:00:01\r\u001b[K     |███████████████████████████▍    | 757kB 17.2MB/s eta 0:00:01\r\u001b[K     |███████████████████████████▉    | 768kB 17.2MB/s eta 0:00:01\r\u001b[K     |████████████████████████████▏   | 778kB 17.2MB/s eta 0:00:01\r\u001b[K     |████████████████████████████▌   | 788kB 17.2MB/s eta 0:00:01\r\u001b[K     |█████████████████████████████   | 798kB 17.2MB/s eta 0:00:01\r\u001b[K     |█████████████████████████████▎  | 808kB 17.2MB/s eta 0:00:01\r\u001b[K     |█████████████████████████████▋  | 819kB 17.2MB/s eta 0:00:01\r\u001b[K     |██████████████████████████████  | 829kB 17.2MB/s eta 0:00:01\r\u001b[K     |██████████████████████████████▍ | 839kB 17.2MB/s eta 0:00:01\r\u001b[K     |██████████████████████████████▊ | 849kB 17.2MB/s eta 0:00:01\r\u001b[K     |███████████████████████████████▏| 860kB 17.2MB/s eta 0:00:01\r\u001b[K     |███████████████████████████████▌| 870kB 17.2MB/s eta 0:00:01\r\u001b[K     |███████████████████████████████▉| 880kB 17.2MB/s eta 0:00:01\r\u001b[K     |████████████████████████████████| 890kB 17.2MB/s \n",
            "\u001b[?25hRequirement already satisfied: requests in /usr/local/lib/python3.6/dist-packages (from transformers==3.1.0) (2.23.0)\n",
            "Requirement already satisfied: numpy in /usr/local/lib/python3.6/dist-packages (from transformers==3.1.0) (1.19.5)\n",
            "Requirement already satisfied: regex!=2019.12.17 in /usr/local/lib/python3.6/dist-packages (from transformers==3.1.0) (2019.12.20)\n",
            "Requirement already satisfied: filelock in /usr/local/lib/python3.6/dist-packages (from transformers==3.1.0) (3.0.12)\n",
            "Requirement already satisfied: dataclasses; python_version < \"3.7\" in /usr/local/lib/python3.6/dist-packages (from transformers==3.1.0) (0.8)\n",
            "Requirement already satisfied: packaging in /usr/local/lib/python3.6/dist-packages (from transformers==3.1.0) (20.9)\n",
            "Collecting tokenizers==0.8.1.rc2\n",
            "\u001b[?25l  Downloading https://files.pythonhosted.org/packages/80/83/8b9fccb9e48eeb575ee19179e2bdde0ee9a1904f97de5f02d19016b8804f/tokenizers-0.8.1rc2-cp36-cp36m-manylinux1_x86_64.whl (3.0MB)\n",
            "\u001b[K     |████████████████████████████████| 3.0MB 57.2MB/s \n",
            "\u001b[?25hRequirement already satisfied: tqdm>=4.27 in /usr/local/lib/python3.6/dist-packages (from transformers==3.1.0) (4.41.1)\n",
            "Collecting sacremoses\n",
            "\u001b[?25l  Downloading https://files.pythonhosted.org/packages/7d/34/09d19aff26edcc8eb2a01bed8e98f13a1537005d31e95233fd48216eed10/sacremoses-0.0.43.tar.gz (883kB)\n",
            "\u001b[K     |████████████████████████████████| 890kB 47.5MB/s \n",
            "\u001b[?25hCollecting sentencepiece!=0.1.92\n",
            "\u001b[?25l  Downloading https://files.pythonhosted.org/packages/14/67/e42bd1181472c95c8cda79305df848264f2a7f62740995a46945d9797b67/sentencepiece-0.1.95-cp36-cp36m-manylinux2014_x86_64.whl (1.2MB)\n",
            "\u001b[K     |████████████████████████████████| 1.2MB 48.4MB/s \n",
            "\u001b[?25hRequirement already satisfied: chardet<4,>=3.0.2 in /usr/local/lib/python3.6/dist-packages (from requests->transformers==3.1.0) (3.0.4)\n",
            "Requirement already satisfied: idna<3,>=2.5 in /usr/local/lib/python3.6/dist-packages (from requests->transformers==3.1.0) (2.10)\n",
            "Requirement already satisfied: urllib3!=1.25.0,!=1.25.1,<1.26,>=1.21.1 in /usr/local/lib/python3.6/dist-packages (from requests->transformers==3.1.0) (1.24.3)\n",
            "Requirement already satisfied: certifi>=2017.4.17 in /usr/local/lib/python3.6/dist-packages (from requests->transformers==3.1.0) (2020.12.5)\n",
            "Requirement already satisfied: pyparsing>=2.0.2 in /usr/local/lib/python3.6/dist-packages (from packaging->transformers==3.1.0) (2.4.7)\n",
            "Requirement already satisfied: six in /usr/local/lib/python3.6/dist-packages (from sacremoses->transformers==3.1.0) (1.15.0)\n",
            "Requirement already satisfied: click in /usr/local/lib/python3.6/dist-packages (from sacremoses->transformers==3.1.0) (7.1.2)\n",
            "Requirement already satisfied: joblib in /usr/local/lib/python3.6/dist-packages (from sacremoses->transformers==3.1.0) (1.0.0)\n",
            "Building wheels for collected packages: sacremoses\n",
            "  Building wheel for sacremoses (setup.py) ... \u001b[?25l\u001b[?25hdone\n",
            "  Created wheel for sacremoses: filename=sacremoses-0.0.43-cp36-none-any.whl size=893261 sha256=032910e60912757ceecdbeacb6767b01ea55949eab1b7859cbdcc14f4254c5a8\n",
            "  Stored in directory: /root/.cache/pip/wheels/29/3c/fd/7ce5c3f0666dab31a50123635e6fb5e19ceb42ce38d4e58f45\n",
            "Successfully built sacremoses\n",
            "Installing collected packages: tokenizers, sacremoses, sentencepiece, transformers\n",
            "Successfully installed sacremoses-0.0.43 sentencepiece-0.1.95 tokenizers-0.8.1rc2 transformers-3.1.0\n"
          ],
          "name": "stdout"
        }
      ]
    },
    {
      "cell_type": "code",
      "metadata": {
        "id": "TiU_ES5tzpMH"
      },
      "source": [
        "from transformers import pipeline"
      ],
      "execution_count": 3,
      "outputs": []
    },
    {
      "cell_type": "code",
      "metadata": {
        "id": "spkccRiv0CB3",
        "colab": {
          "base_uri": "https://localhost:8080/",
          "height": 299,
          "referenced_widgets": [
            "01ac362318314891b1a07f32c4e692ab",
            "ed16769572664d0593eca9893f10ba2a",
            "51e24deab6c54435805c109cf1352fcc",
            "05365cc7ef3e464b8ac4ce43628c1cab",
            "a914dd79aa7b488da082858b775c82f0",
            "eda026412514433a8a1d3eaa1045c32e",
            "3ef79d74508041d7a0940067d09da3f3",
            "a4f67162f02241d7976e0d20268b4282",
            "dca7068841fd4722b69c107df8066667",
            "9e7e15cab1924580a7857d3de01c335b",
            "261f10714d8a445298d9625e9517baaa",
            "b5620b965d2c4ea6aa4bb1f401479f6f",
            "5f3eb66a1d1c47ba88776fa6842c252a",
            "4dd776b4756b479ca59ba4733ae61277",
            "8319497703154199b4ce42a630a8a929",
            "51ecd29167144bb7929ec5330de27546",
            "1522523a6d8f403e9f1f90e9d514de14",
            "40a029c7245f450e8046cf9b708d6196",
            "551c1a4b7986454499914b8c217b0936",
            "d36e0c67f3214618958155d009187dc3",
            "39582361c0844bf2a276416f5c83989e",
            "6c46a325effe48899a83b84904a73f86",
            "45aa0a4b84ad49b8921507ea6f9ca35f",
            "2c50b7c052e546a39cf224f9f48b00fb",
            "ddfbdbde0b5b4fbe9fc48931ad8211f6",
            "4e6b062b16724fbdb0fe2ba9b2197b71",
            "153d84d6890c46b7ad39d64d5bc8e971",
            "8fa0a59e0db74ed3a5f505254722227c",
            "4e615be9f4274f30b9ca54a3ae9e419b",
            "fe8bfc086ad848659eff1507dbfe88ca",
            "41c34fde920240af9b3fad64a99c89dd",
            "4b10f2d45f284e289edf4296a38d54f2"
          ]
        },
        "outputId": "b4aa7fcb-63bf-44e8-f74e-8f33b77cb584"
      },
      "source": [
        "#classifier = pipeline(\"zero-shot-classification\")\n",
        "classifier = pipeline(\"zero-shot-classification\", device=0) # to utilize GPU"
      ],
      "execution_count": 4,
      "outputs": [
        {
          "output_type": "display_data",
          "data": {
            "application/vnd.jupyter.widget-view+json": {
              "model_id": "01ac362318314891b1a07f32c4e692ab",
              "version_minor": 0,
              "version_major": 2
            },
            "text/plain": [
              "HBox(children=(FloatProgress(value=0.0, description='Downloading', max=908.0, style=ProgressStyle(description_…"
            ]
          },
          "metadata": {
            "tags": []
          }
        },
        {
          "output_type": "stream",
          "text": [
            "\n"
          ],
          "name": "stdout"
        },
        {
          "output_type": "display_data",
          "data": {
            "application/vnd.jupyter.widget-view+json": {
              "model_id": "dca7068841fd4722b69c107df8066667",
              "version_minor": 0,
              "version_major": 2
            },
            "text/plain": [
              "HBox(children=(FloatProgress(value=0.0, description='Downloading', max=898823.0, style=ProgressStyle(descripti…"
            ]
          },
          "metadata": {
            "tags": []
          }
        },
        {
          "output_type": "stream",
          "text": [
            "\n"
          ],
          "name": "stdout"
        },
        {
          "output_type": "display_data",
          "data": {
            "application/vnd.jupyter.widget-view+json": {
              "model_id": "1522523a6d8f403e9f1f90e9d514de14",
              "version_minor": 0,
              "version_major": 2
            },
            "text/plain": [
              "HBox(children=(FloatProgress(value=0.0, description='Downloading', max=456318.0, style=ProgressStyle(descripti…"
            ]
          },
          "metadata": {
            "tags": []
          }
        },
        {
          "output_type": "stream",
          "text": [
            "\n"
          ],
          "name": "stdout"
        },
        {
          "output_type": "display_data",
          "data": {
            "application/vnd.jupyter.widget-view+json": {
              "model_id": "ddfbdbde0b5b4fbe9fc48931ad8211f6",
              "version_minor": 0,
              "version_major": 2
            },
            "text/plain": [
              "HBox(children=(FloatProgress(value=0.0, description='Downloading', max=1629486723.0, style=ProgressStyle(descr…"
            ]
          },
          "metadata": {
            "tags": []
          }
        },
        {
          "output_type": "stream",
          "text": [
            "\n"
          ],
          "name": "stdout"
        },
        {
          "output_type": "stream",
          "text": [
            "Some weights of the model checkpoint at facebook/bart-large-mnli were not used when initializing BartForSequenceClassification: ['model.encoder.version', 'model.decoder.version']\n",
            "- This IS expected if you are initializing BartForSequenceClassification from the checkpoint of a model trained on another task or with another architecture (e.g. initializing a BertForSequenceClassification model from a BertForPretraining model).\n",
            "- This IS NOT expected if you are initializing BartForSequenceClassification from the checkpoint of a model that you expect to be exactly identical (initializing a BertForSequenceClassification model from a BertForSequenceClassification model).\n"
          ],
          "name": "stderr"
        }
      ]
    },
    {
      "cell_type": "code",
      "metadata": {
        "id": "w8KjtUuju77u"
      },
      "source": [
        "def zeroshot_NER(paragraph, candidate_labels, threshold):\n",
        "  words = [word.lower() for word in paragraph.split() if word.isalpha()]\n",
        "  NER = []\n",
        "  for word in words:\n",
        "    output = classifier(word, candidate_labels)\n",
        "\n",
        "    label =  output['labels'][0] if output['scores'][0] > threshold else '[UNK]'\n",
        "    NER.append([word, label])\n",
        "\n",
        "  return NER  "
      ],
      "execution_count": 6,
      "outputs": []
    },
    {
      "cell_type": "code",
      "metadata": {
        "id": "ZU_gJaoWfYGL"
      },
      "source": [
        "from sklearn.metrics import f1_score, precision_score, recall_score\n",
        "from tqdm import tqdm\n",
        "\n",
        "\n",
        "label_maps = {'Person' : 'PER',\n",
        "              'Organization' : 'ORG',\n",
        "              'Location' : 'LOC',\n",
        "              'Miscellaneous': 'MISC', \n",
        "              '[UNK]' : 'O'}\n",
        "\n",
        "other_label_map = {'B-ORG' : 'ORG',\n",
        "                   'I-ORG' : 'ORG',\n",
        "                   'B-PER' : 'PER',\n",
        "                   'I-PER' : 'PER',\n",
        "                   'B-LOC' : 'LOC',\n",
        "                   'I-LOC' : 'LOC',\n",
        "                   'B-MISC' : 'MISC',\n",
        "                   'I-MISC' : 'MISC',\n",
        "                   'O' : 'O'}\n",
        "\n",
        "filename = '/content/test.txt'"
      ],
      "execution_count": 7,
      "outputs": []
    },
    {
      "cell_type": "code",
      "metadata": {
        "id": "MUE1JsymQUWY",
        "outputId": "45ad0f22-f2b2-474e-e0f6-ad3352441da5",
        "colab": {
          "base_uri": "https://localhost:8080/",
          "height": 113
        }
      },
      "source": [
        "predictions = []\n",
        "labels = []\n",
        "\n",
        "THRESHOLD = 0.5\n",
        "with open(filename) as f:\n",
        "  for i, line in tqdm(enumerate(f)):\n",
        "    if i == 0:\n",
        "        continue\n",
        "    line = line.split()\n",
        "    if len(line) > 0 and line[0].isalpha():\n",
        "      word = line[0]\n",
        "      label = other_label_map[line[3]]\n",
        "      labels.append(label)\n",
        "      \n",
        "      out = zeroshot_NER(word, candidate_labels, THRESHOLD)\n",
        "\n",
        "      predictions.append(label_maps[out[0][1]])\n",
        "\n",
        "f1 = f1_score(labels, predictions, average='weighted')\n",
        "precision = precision_score(labels, predictions, average='weighted')\n",
        "recall = recall_score(labels, predictions, average='weighted')\n",
        "print(f\"Precision - {recall}\\nRecall - {precision}\\nf1 - {f1}\")\n",
        "'''\n",
        "Precision - 0.5756579921248187\n",
        "Recall - 0.6500091058577243\n",
        "f1 - 0.597280030256445\n",
        "'''\n",
        "\n",
        "\n",
        "# result = {}\n",
        "#'''for label in label_maps.values():\n",
        "#  pred = [x == label for x in predictions]\n",
        "#  true = [x == label for x in labels]\n",
        "#  result[label] = f1_score(true, pred, average='binary')\n",
        "\n",
        "#print(result)\n",
        "#''''''\n",
        "#50350it [22:49, 36.76it/s]\n",
        "\n",
        "#{'PER': 0.2156064461407973, 'ORG': 0.036968576709796676, 'LOC': 0.3058277462609592, 'MISC': 0.005212858384013901, 'O': 0.7298355194669998}\n",
        "#'''"
      ],
      "execution_count": 8,
      "outputs": [
        {
          "output_type": "stream",
          "text": [
            "50350it [16:35, 50.58it/s]\n"
          ],
          "name": "stderr"
        },
        {
          "output_type": "stream",
          "text": [
            "Precision - 0.5756579921248187\n",
            "Recall - 0.6500091058577243\n",
            "f1 - 0.597280030256445\n"
          ],
          "name": "stdout"
        },
        {
          "output_type": "execute_result",
          "data": {
            "application/vnd.google.colaboratory.intrinsic+json": {
              "type": "string"
            },
            "text/plain": [
              "'\\nPrecision - 0.5756579921248187\\nRecall - 0.6500091058577243\\nf1 - 0.597280030256445\\n'"
            ]
          },
          "metadata": {
            "tags": []
          },
          "execution_count": 8
        }
      ]
    },
    {
      "cell_type": "code",
      "metadata": {
        "id": "NDYPUdOApm5_",
        "outputId": "05e824f1-f430-416f-a4ca-8be3185eac35",
        "colab": {
          "base_uri": "https://localhost:8080/",
          "height": 113
        }
      },
      "source": [
        "predictions = []\n",
        "labels = []\n",
        "\n",
        "THRESHOLD = 0.6\n",
        "with open(filename) as f:\n",
        "  for i, line in tqdm(enumerate(f)):\n",
        "    if i == 0:\n",
        "        continue\n",
        "    line = line.split()\n",
        "    if len(line) > 0 and line[0].isalpha():\n",
        "      word = line[0]\n",
        "      label = other_label_map[line[3]]\n",
        "      labels.append(label)\n",
        "      \n",
        "      #print(line)\n",
        "      #print(word)\n",
        "      \n",
        "      out = zeroshot_NER(word, candidate_labels, THRESHOLD)\n",
        "\n",
        "      predictions.append(label_maps[out[0][1]])\n",
        "\n",
        "f1 = f1_score(labels, predictions, average='weighted')\n",
        "precision = precision_score(labels, predictions, average='weighted')\n",
        "recall = recall_score(labels, predictions, average='weighted')\n",
        "print(f\"Precision - {recall}\\nRecall - {precision}\\nf1 - {f1}\")\n",
        "'''\n",
        "Precision - 0.7299049649169553\n",
        "Recall - 0.6752435637801734\n",
        "f1 - 0.6949574012914023\n",
        "'''\n",
        "\n",
        "\n",
        "#'''\n",
        "#for label in label_maps.values():\n",
        "#  pred = [x == label for x in predictions]\n",
        "#  true = [x == label for x in labels]\n",
        "#  result[label] = f1_score(true, pred, average='binary')\n",
        "\n",
        "#print(result)\n",
        "\n",
        "#55044it [20:10, 45.48it/s]\n",
        "\n",
        "#{'PER': 0.21206682313958305, 'ORG': 0.04953560371517028, 'LOC': 0.35424354243542433, 'MISC': 0.0, 'O': 0.7353024911032029}\n",
        "#'''"
      ],
      "execution_count": 9,
      "outputs": [
        {
          "output_type": "stream",
          "text": [
            "50350it [16:38, 50.41it/s]\n"
          ],
          "name": "stderr"
        },
        {
          "output_type": "stream",
          "text": [
            "Precision - 0.7299049649169553\n",
            "Recall - 0.6752435637801734\n",
            "f1 - 0.6949574012914023\n"
          ],
          "name": "stdout"
        },
        {
          "output_type": "execute_result",
          "data": {
            "application/vnd.google.colaboratory.intrinsic+json": {
              "type": "string"
            },
            "text/plain": [
              "'\\nPrecision - 0.7299049649169553\\nRecall - 0.6752435637801734\\nf1 - 0.6949574012914023\\n'"
            ]
          },
          "metadata": {
            "tags": []
          },
          "execution_count": 9
        }
      ]
    },
    {
      "cell_type": "code",
      "metadata": {
        "id": "ycFVmAOCH6Un",
        "outputId": "46797d40-be34-4456-8072-07559407d4e4",
        "colab": {
          "base_uri": "https://localhost:8080/"
        }
      },
      "source": [
        "predictions = []\n",
        "labels = []\n",
        "\n",
        "THRESHOLD = 0.7\n",
        "with open(filename) as f:\n",
        "  for i, line in tqdm(enumerate(f)):\n",
        "    if i == 0:\n",
        "        continue\n",
        "    line = line.split()\n",
        "    if len(line) > 0 and line[0].isalpha():\n",
        "      word = line[0]\n",
        "      label = other_label_map[line[3]]\n",
        "      labels.append(label)\n",
        "      \n",
        "      #print(line)\n",
        "      #print(word)\n",
        "      \n",
        "      out = zeroshot_NER(word, candidate_labels, THRESHOLD)\n",
        "\n",
        "      predictions.append(label_maps[out[0][1]])\n",
        "\n",
        "f1 = f1_score(labels, predictions, average='weighted')\n",
        "precision = precision_score(labels, predictions, average='weighted')\n",
        "recall = recall_score(labels, predictions, average='weighted')\n",
        "print(f\"Precision - {recall}\\nRecall - {precision}\\nf1 - {f1}\")"
      ],
      "execution_count": 20,
      "outputs": [
        {
          "output_type": "stream",
          "text": [
            "50350it [16:38, 50.45it/s]\n"
          ],
          "name": "stderr"
        },
        {
          "output_type": "stream",
          "text": [
            "Precision - 0.7583562779406104\n",
            "Recall - 0.681241407473071\n",
            "f1 - 0.7027216247743684\n"
          ],
          "name": "stdout"
        }
      ]
    },
    {
      "cell_type": "code",
      "metadata": {
        "id": "e_WLNPvfAakf",
        "outputId": "1d31c8ea-dd9e-4bef-a843-648d258fb119",
        "colab": {
          "base_uri": "https://localhost:8080/"
        }
      },
      "source": [
        "candidate_labels = ['PER', 'ORG', 'LOC', 'MISC', 'O']\n",
        "predictions = []\n",
        "labels = []\n",
        "\n",
        "THRESHOLD = 0.5\n",
        "with open(filename) as f:\n",
        "  for i, line in tqdm(enumerate(f)):\n",
        "    if i == 0:\n",
        "        continue\n",
        "    line = line.split()\n",
        "    if len(line) > 0 and line[0].isalpha():\n",
        "      word = line[0]\n",
        "      label = other_label_map[line[3]]\n",
        "      labels.append(label)\n",
        "      \n",
        "      #print(line)\n",
        "      #print(word)\n",
        "      \n",
        "      out = zeroshot_NER(word, candidate_labels, THRESHOLD)\n",
        "\n",
        "      predictions.append(out[0][1])\n",
        "\n",
        "f1 = f1_score(labels, predictions, average='weighted')\n",
        "precision = precision_score(labels, predictions, average='weighted')\n",
        "recall = recall_score(labels, predictions, average='weighted')\n",
        "print(f\"Precision - {recall}\\nRecall - {precision}\\nf1 - {f1}\")"
      ],
      "execution_count": 17,
      "outputs": [
        {
          "output_type": "stream",
          "text": [
            "50350it [15:19, 54.74it/s]\n"
          ],
          "name": "stderr"
        },
        {
          "output_type": "stream",
          "text": [
            "Precision - 0.017289871806258697\n",
            "Recall - 0.3744396187322082\n",
            "f1 - 0.03217303294330843\n"
          ],
          "name": "stdout"
        },
        {
          "output_type": "stream",
          "text": [
            "/usr/local/lib/python3.6/dist-packages/sklearn/metrics/_classification.py:1272: UndefinedMetricWarning: Recall is ill-defined and being set to 0.0 in labels with no true samples. Use `zero_division` parameter to control this behavior.\n",
            "  _warn_prf(average, modifier, msg_start, len(result))\n"
          ],
          "name": "stderr"
        }
      ]
    },
    {
      "cell_type": "code",
      "metadata": {
        "id": "siuQksul5jXt",
        "outputId": "6ec19ff8-c5f0-4775-ab09-0be0f688e691",
        "colab": {
          "base_uri": "https://localhost:8080/"
        }
      },
      "source": [
        "candidate_labels = ['PER', 'ORG', 'LOC', 'MISC', 'O']\n",
        "predictions = []\n",
        "labels = []\n",
        "\n",
        "THRESHOLD = 0.6\n",
        "with open(filename) as f:\n",
        "  for i, line in tqdm(enumerate(f)):\n",
        "    if i == 0:\n",
        "        continue\n",
        "    line = line.split()\n",
        "    if len(line) > 0 and line[0].isalpha():\n",
        "      word = line[0]\n",
        "      label = other_label_map[line[3]]\n",
        "      labels.append(label)\n",
        "      \n",
        "      #print(line)\n",
        "      #print(word)\n",
        "      \n",
        "      out = zeroshot_NER(word, candidate_labels, THRESHOLD)\n",
        "\n",
        "      predictions.append(out[0][1])\n",
        "\n",
        "f1 = f1_score(labels, predictions, average='weighted')\n",
        "precision = precision_score(labels, predictions, average='weighted')\n",
        "recall = recall_score(labels, predictions, average='weighted')\n",
        "print(f\"Precision - {recall}\\nRecall - {precision}\\nf1 - {f1}\")"
      ],
      "execution_count": 16,
      "outputs": [
        {
          "output_type": "stream",
          "text": [
            "50350it [15:22, 54.59it/s]\n"
          ],
          "name": "stderr"
        },
        {
          "output_type": "stream",
          "text": [
            "Precision - 0.0042928620066909435\n",
            "Recall - 0.3801834965158039\n",
            "f1 - 0.008283681986322875\n"
          ],
          "name": "stdout"
        },
        {
          "output_type": "stream",
          "text": [
            "/usr/local/lib/python3.6/dist-packages/sklearn/metrics/_classification.py:1272: UndefinedMetricWarning: Recall is ill-defined and being set to 0.0 in labels with no true samples. Use `zero_division` parameter to control this behavior.\n",
            "  _warn_prf(average, modifier, msg_start, len(result))\n"
          ],
          "name": "stderr"
        }
      ]
    },
    {
      "cell_type": "code",
      "metadata": {
        "id": "OYtWOturH-K0",
        "outputId": "b4224b0a-4360-49c8-acbb-8b5e0fe35b7f",
        "colab": {
          "base_uri": "https://localhost:8080/"
        }
      },
      "source": [
        "candidate_labels = ['PER', 'ORG', 'LOC', 'MISC', 'O']\n",
        "predictions = []\n",
        "labels = []\n",
        "\n",
        "THRESHOLD = 0.7\n",
        "with open(filename) as f:\n",
        "  for i, line in tqdm(enumerate(f)):\n",
        "    if i == 0:\n",
        "        continue\n",
        "    line = line.split()\n",
        "    if len(line) > 0 and line[0].isalpha():\n",
        "      word = line[0]\n",
        "      label = other_label_map[line[3]]\n",
        "      labels.append(label)\n",
        "      \n",
        "      #print(line)\n",
        "      #print(word)\n",
        "      \n",
        "      out = zeroshot_NER(word, candidate_labels, THRESHOLD)\n",
        "\n",
        "      predictions.append(out[0][1])\n",
        "\n",
        "f1 = f1_score(labels, predictions, average='weighted')\n",
        "precision = precision_score(labels, predictions, average='weighted')\n",
        "recall = recall_score(labels, predictions, average='weighted')\n",
        "print(f\"Precision - {recall}\\nRecall - {precision}\\nf1 - {f1}\")"
      ],
      "execution_count": 21,
      "outputs": [
        {
          "output_type": "stream",
          "text": [
            "50350it [15:25, 54.41it/s]\n",
            "/usr/local/lib/python3.6/dist-packages/sklearn/metrics/_classification.py:1272: UndefinedMetricWarning: Precision is ill-defined and being set to 0.0 in labels with no predicted samples. Use `zero_division` parameter to control this behavior.\n",
            "  _warn_prf(average, modifier, msg_start, len(result))\n"
          ],
          "name": "stderr"
        },
        {
          "output_type": "stream",
          "text": [
            "Precision - 0.0007993605115907274\n",
            "Recall - 0.4335942657285583\n",
            "f1 - 0.0015948481882812865\n"
          ],
          "name": "stdout"
        },
        {
          "output_type": "stream",
          "text": [
            "/usr/local/lib/python3.6/dist-packages/sklearn/metrics/_classification.py:1272: UndefinedMetricWarning: Recall is ill-defined and being set to 0.0 in labels with no true samples. Use `zero_division` parameter to control this behavior.\n",
            "  _warn_prf(average, modifier, msg_start, len(result))\n"
          ],
          "name": "stderr"
        }
      ]
    },
    {
      "cell_type": "code",
      "metadata": {
        "id": "hkfE6NRA0Dzy"
      },
      "source": [
        "sequence = input(\"Enter a paragraph to do NER on.\")\n",
        "candidate_labels = input(\"Enter candidate labels separated by double colon(::).\").split(\"::\")\n",
        "candidate_labels.append('[UNK]')\n",
        "\n",
        "NER = zeroshot_NER(sequence, candidate_labels, 0.4)\n",
        "for each in NER:\n",
        "  print(f\"{each[0]}<{each[1]}>\", end=\" \")"
      ],
      "execution_count": null,
      "outputs": []
    }
  ]
}