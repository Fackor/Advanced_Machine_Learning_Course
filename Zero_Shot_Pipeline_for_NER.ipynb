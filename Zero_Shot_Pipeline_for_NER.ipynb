{
  "nbformat": 4,
  "nbformat_minor": 0,
  "metadata": {
    "colab": {
      "name": "Zero_Shot_Pipeline_for_NER.ipynb",
      "provenance": [],
      "collapsed_sections": [],
      "include_colab_link": true
    },
    "kernelspec": {
      "name": "python3",
      "display_name": "Python 3"
    },
    "accelerator": "GPU",
    "widgets": {
      "application/vnd.jupyter.widget-state+json": {
        "96a4d2b0f0e6494f96aba0ba642297c0": {
          "model_module": "@jupyter-widgets/controls",
          "model_name": "HBoxModel",
          "state": {
            "_view_name": "HBoxView",
            "_dom_classes": [],
            "_model_name": "HBoxModel",
            "_view_module": "@jupyter-widgets/controls",
            "_model_module_version": "1.5.0",
            "_view_count": null,
            "_view_module_version": "1.5.0",
            "box_style": "",
            "layout": "IPY_MODEL_440156cbc35b404ca9e29661eeb18267",
            "_model_module": "@jupyter-widgets/controls",
            "children": [
              "IPY_MODEL_14b390560e6c48f49546845b0976fc06",
              "IPY_MODEL_bded5c1cd4084885847863b6ed955171"
            ]
          }
        },
        "440156cbc35b404ca9e29661eeb18267": {
          "model_module": "@jupyter-widgets/base",
          "model_name": "LayoutModel",
          "state": {
            "_view_name": "LayoutView",
            "grid_template_rows": null,
            "right": null,
            "justify_content": null,
            "_view_module": "@jupyter-widgets/base",
            "overflow": null,
            "_model_module_version": "1.2.0",
            "_view_count": null,
            "flex_flow": null,
            "width": null,
            "min_width": null,
            "border": null,
            "align_items": null,
            "bottom": null,
            "_model_module": "@jupyter-widgets/base",
            "top": null,
            "grid_column": null,
            "overflow_y": null,
            "overflow_x": null,
            "grid_auto_flow": null,
            "grid_area": null,
            "grid_template_columns": null,
            "flex": null,
            "_model_name": "LayoutModel",
            "justify_items": null,
            "grid_row": null,
            "max_height": null,
            "align_content": null,
            "visibility": null,
            "align_self": null,
            "height": null,
            "min_height": null,
            "padding": null,
            "grid_auto_rows": null,
            "grid_gap": null,
            "max_width": null,
            "order": null,
            "_view_module_version": "1.2.0",
            "grid_template_areas": null,
            "object_position": null,
            "object_fit": null,
            "grid_auto_columns": null,
            "margin": null,
            "display": null,
            "left": null
          }
        },
        "14b390560e6c48f49546845b0976fc06": {
          "model_module": "@jupyter-widgets/controls",
          "model_name": "FloatProgressModel",
          "state": {
            "_view_name": "ProgressView",
            "style": "IPY_MODEL_9400a3ffd5a84906bed229966c04613c",
            "_dom_classes": [],
            "description": "Downloading: 100%",
            "_model_name": "FloatProgressModel",
            "bar_style": "success",
            "max": 908,
            "_view_module": "@jupyter-widgets/controls",
            "_model_module_version": "1.5.0",
            "value": 908,
            "_view_count": null,
            "_view_module_version": "1.5.0",
            "orientation": "horizontal",
            "min": 0,
            "description_tooltip": null,
            "_model_module": "@jupyter-widgets/controls",
            "layout": "IPY_MODEL_616e64863df443eaa56b6a3b49178286"
          }
        },
        "bded5c1cd4084885847863b6ed955171": {
          "model_module": "@jupyter-widgets/controls",
          "model_name": "HTMLModel",
          "state": {
            "_view_name": "HTMLView",
            "style": "IPY_MODEL_69a134859ff14dcd93b7ce602978d655",
            "_dom_classes": [],
            "description": "",
            "_model_name": "HTMLModel",
            "placeholder": "​",
            "_view_module": "@jupyter-widgets/controls",
            "_model_module_version": "1.5.0",
            "value": " 908/908 [00:00&lt;00:00, 5.47kB/s]",
            "_view_count": null,
            "_view_module_version": "1.5.0",
            "description_tooltip": null,
            "_model_module": "@jupyter-widgets/controls",
            "layout": "IPY_MODEL_6ba8e480a1f245ac8fc1fda0a0b68c4c"
          }
        },
        "9400a3ffd5a84906bed229966c04613c": {
          "model_module": "@jupyter-widgets/controls",
          "model_name": "ProgressStyleModel",
          "state": {
            "_view_name": "StyleView",
            "_model_name": "ProgressStyleModel",
            "description_width": "initial",
            "_view_module": "@jupyter-widgets/base",
            "_model_module_version": "1.5.0",
            "_view_count": null,
            "_view_module_version": "1.2.0",
            "bar_color": null,
            "_model_module": "@jupyter-widgets/controls"
          }
        },
        "616e64863df443eaa56b6a3b49178286": {
          "model_module": "@jupyter-widgets/base",
          "model_name": "LayoutModel",
          "state": {
            "_view_name": "LayoutView",
            "grid_template_rows": null,
            "right": null,
            "justify_content": null,
            "_view_module": "@jupyter-widgets/base",
            "overflow": null,
            "_model_module_version": "1.2.0",
            "_view_count": null,
            "flex_flow": null,
            "width": null,
            "min_width": null,
            "border": null,
            "align_items": null,
            "bottom": null,
            "_model_module": "@jupyter-widgets/base",
            "top": null,
            "grid_column": null,
            "overflow_y": null,
            "overflow_x": null,
            "grid_auto_flow": null,
            "grid_area": null,
            "grid_template_columns": null,
            "flex": null,
            "_model_name": "LayoutModel",
            "justify_items": null,
            "grid_row": null,
            "max_height": null,
            "align_content": null,
            "visibility": null,
            "align_self": null,
            "height": null,
            "min_height": null,
            "padding": null,
            "grid_auto_rows": null,
            "grid_gap": null,
            "max_width": null,
            "order": null,
            "_view_module_version": "1.2.0",
            "grid_template_areas": null,
            "object_position": null,
            "object_fit": null,
            "grid_auto_columns": null,
            "margin": null,
            "display": null,
            "left": null
          }
        },
        "69a134859ff14dcd93b7ce602978d655": {
          "model_module": "@jupyter-widgets/controls",
          "model_name": "DescriptionStyleModel",
          "state": {
            "_view_name": "StyleView",
            "_model_name": "DescriptionStyleModel",
            "description_width": "",
            "_view_module": "@jupyter-widgets/base",
            "_model_module_version": "1.5.0",
            "_view_count": null,
            "_view_module_version": "1.2.0",
            "_model_module": "@jupyter-widgets/controls"
          }
        },
        "6ba8e480a1f245ac8fc1fda0a0b68c4c": {
          "model_module": "@jupyter-widgets/base",
          "model_name": "LayoutModel",
          "state": {
            "_view_name": "LayoutView",
            "grid_template_rows": null,
            "right": null,
            "justify_content": null,
            "_view_module": "@jupyter-widgets/base",
            "overflow": null,
            "_model_module_version": "1.2.0",
            "_view_count": null,
            "flex_flow": null,
            "width": null,
            "min_width": null,
            "border": null,
            "align_items": null,
            "bottom": null,
            "_model_module": "@jupyter-widgets/base",
            "top": null,
            "grid_column": null,
            "overflow_y": null,
            "overflow_x": null,
            "grid_auto_flow": null,
            "grid_area": null,
            "grid_template_columns": null,
            "flex": null,
            "_model_name": "LayoutModel",
            "justify_items": null,
            "grid_row": null,
            "max_height": null,
            "align_content": null,
            "visibility": null,
            "align_self": null,
            "height": null,
            "min_height": null,
            "padding": null,
            "grid_auto_rows": null,
            "grid_gap": null,
            "max_width": null,
            "order": null,
            "_view_module_version": "1.2.0",
            "grid_template_areas": null,
            "object_position": null,
            "object_fit": null,
            "grid_auto_columns": null,
            "margin": null,
            "display": null,
            "left": null
          }
        },
        "ce6d648b69014c398ed9662a0b400bd6": {
          "model_module": "@jupyter-widgets/controls",
          "model_name": "HBoxModel",
          "state": {
            "_view_name": "HBoxView",
            "_dom_classes": [],
            "_model_name": "HBoxModel",
            "_view_module": "@jupyter-widgets/controls",
            "_model_module_version": "1.5.0",
            "_view_count": null,
            "_view_module_version": "1.5.0",
            "box_style": "",
            "layout": "IPY_MODEL_3df8de8830384acd9d58bc1e300e9d41",
            "_model_module": "@jupyter-widgets/controls",
            "children": [
              "IPY_MODEL_8581028345ff4023ac463fe11ea0b877",
              "IPY_MODEL_660fb604854543c2993f5644bd9079b3"
            ]
          }
        },
        "3df8de8830384acd9d58bc1e300e9d41": {
          "model_module": "@jupyter-widgets/base",
          "model_name": "LayoutModel",
          "state": {
            "_view_name": "LayoutView",
            "grid_template_rows": null,
            "right": null,
            "justify_content": null,
            "_view_module": "@jupyter-widgets/base",
            "overflow": null,
            "_model_module_version": "1.2.0",
            "_view_count": null,
            "flex_flow": null,
            "width": null,
            "min_width": null,
            "border": null,
            "align_items": null,
            "bottom": null,
            "_model_module": "@jupyter-widgets/base",
            "top": null,
            "grid_column": null,
            "overflow_y": null,
            "overflow_x": null,
            "grid_auto_flow": null,
            "grid_area": null,
            "grid_template_columns": null,
            "flex": null,
            "_model_name": "LayoutModel",
            "justify_items": null,
            "grid_row": null,
            "max_height": null,
            "align_content": null,
            "visibility": null,
            "align_self": null,
            "height": null,
            "min_height": null,
            "padding": null,
            "grid_auto_rows": null,
            "grid_gap": null,
            "max_width": null,
            "order": null,
            "_view_module_version": "1.2.0",
            "grid_template_areas": null,
            "object_position": null,
            "object_fit": null,
            "grid_auto_columns": null,
            "margin": null,
            "display": null,
            "left": null
          }
        },
        "8581028345ff4023ac463fe11ea0b877": {
          "model_module": "@jupyter-widgets/controls",
          "model_name": "FloatProgressModel",
          "state": {
            "_view_name": "ProgressView",
            "style": "IPY_MODEL_85772aa86ebd45cd80dc384c533caf45",
            "_dom_classes": [],
            "description": "Downloading: 100%",
            "_model_name": "FloatProgressModel",
            "bar_style": "success",
            "max": 898823,
            "_view_module": "@jupyter-widgets/controls",
            "_model_module_version": "1.5.0",
            "value": 898823,
            "_view_count": null,
            "_view_module_version": "1.5.0",
            "orientation": "horizontal",
            "min": 0,
            "description_tooltip": null,
            "_model_module": "@jupyter-widgets/controls",
            "layout": "IPY_MODEL_17e6abfe5e81456781fece62d0528946"
          }
        },
        "660fb604854543c2993f5644bd9079b3": {
          "model_module": "@jupyter-widgets/controls",
          "model_name": "HTMLModel",
          "state": {
            "_view_name": "HTMLView",
            "style": "IPY_MODEL_fa413ebde770464ba01b4fb50b2a1e3e",
            "_dom_classes": [],
            "description": "",
            "_model_name": "HTMLModel",
            "placeholder": "​",
            "_view_module": "@jupyter-widgets/controls",
            "_model_module_version": "1.5.0",
            "value": " 899k/899k [00:00&lt;00:00, 1.96MB/s]",
            "_view_count": null,
            "_view_module_version": "1.5.0",
            "description_tooltip": null,
            "_model_module": "@jupyter-widgets/controls",
            "layout": "IPY_MODEL_5283a66b069e43028d5e25ad544cd30c"
          }
        },
        "85772aa86ebd45cd80dc384c533caf45": {
          "model_module": "@jupyter-widgets/controls",
          "model_name": "ProgressStyleModel",
          "state": {
            "_view_name": "StyleView",
            "_model_name": "ProgressStyleModel",
            "description_width": "initial",
            "_view_module": "@jupyter-widgets/base",
            "_model_module_version": "1.5.0",
            "_view_count": null,
            "_view_module_version": "1.2.0",
            "bar_color": null,
            "_model_module": "@jupyter-widgets/controls"
          }
        },
        "17e6abfe5e81456781fece62d0528946": {
          "model_module": "@jupyter-widgets/base",
          "model_name": "LayoutModel",
          "state": {
            "_view_name": "LayoutView",
            "grid_template_rows": null,
            "right": null,
            "justify_content": null,
            "_view_module": "@jupyter-widgets/base",
            "overflow": null,
            "_model_module_version": "1.2.0",
            "_view_count": null,
            "flex_flow": null,
            "width": null,
            "min_width": null,
            "border": null,
            "align_items": null,
            "bottom": null,
            "_model_module": "@jupyter-widgets/base",
            "top": null,
            "grid_column": null,
            "overflow_y": null,
            "overflow_x": null,
            "grid_auto_flow": null,
            "grid_area": null,
            "grid_template_columns": null,
            "flex": null,
            "_model_name": "LayoutModel",
            "justify_items": null,
            "grid_row": null,
            "max_height": null,
            "align_content": null,
            "visibility": null,
            "align_self": null,
            "height": null,
            "min_height": null,
            "padding": null,
            "grid_auto_rows": null,
            "grid_gap": null,
            "max_width": null,
            "order": null,
            "_view_module_version": "1.2.0",
            "grid_template_areas": null,
            "object_position": null,
            "object_fit": null,
            "grid_auto_columns": null,
            "margin": null,
            "display": null,
            "left": null
          }
        },
        "fa413ebde770464ba01b4fb50b2a1e3e": {
          "model_module": "@jupyter-widgets/controls",
          "model_name": "DescriptionStyleModel",
          "state": {
            "_view_name": "StyleView",
            "_model_name": "DescriptionStyleModel",
            "description_width": "",
            "_view_module": "@jupyter-widgets/base",
            "_model_module_version": "1.5.0",
            "_view_count": null,
            "_view_module_version": "1.2.0",
            "_model_module": "@jupyter-widgets/controls"
          }
        },
        "5283a66b069e43028d5e25ad544cd30c": {
          "model_module": "@jupyter-widgets/base",
          "model_name": "LayoutModel",
          "state": {
            "_view_name": "LayoutView",
            "grid_template_rows": null,
            "right": null,
            "justify_content": null,
            "_view_module": "@jupyter-widgets/base",
            "overflow": null,
            "_model_module_version": "1.2.0",
            "_view_count": null,
            "flex_flow": null,
            "width": null,
            "min_width": null,
            "border": null,
            "align_items": null,
            "bottom": null,
            "_model_module": "@jupyter-widgets/base",
            "top": null,
            "grid_column": null,
            "overflow_y": null,
            "overflow_x": null,
            "grid_auto_flow": null,
            "grid_area": null,
            "grid_template_columns": null,
            "flex": null,
            "_model_name": "LayoutModel",
            "justify_items": null,
            "grid_row": null,
            "max_height": null,
            "align_content": null,
            "visibility": null,
            "align_self": null,
            "height": null,
            "min_height": null,
            "padding": null,
            "grid_auto_rows": null,
            "grid_gap": null,
            "max_width": null,
            "order": null,
            "_view_module_version": "1.2.0",
            "grid_template_areas": null,
            "object_position": null,
            "object_fit": null,
            "grid_auto_columns": null,
            "margin": null,
            "display": null,
            "left": null
          }
        },
        "098ec492ac514362adba11c6b6324a75": {
          "model_module": "@jupyter-widgets/controls",
          "model_name": "HBoxModel",
          "state": {
            "_view_name": "HBoxView",
            "_dom_classes": [],
            "_model_name": "HBoxModel",
            "_view_module": "@jupyter-widgets/controls",
            "_model_module_version": "1.5.0",
            "_view_count": null,
            "_view_module_version": "1.5.0",
            "box_style": "",
            "layout": "IPY_MODEL_075207ef6e9e4acd86f26abb797bba27",
            "_model_module": "@jupyter-widgets/controls",
            "children": [
              "IPY_MODEL_8ca0c0ada2724c23a47a20cf9bf571b6",
              "IPY_MODEL_d637df7bf2d647e9996f487f1fb5142e"
            ]
          }
        },
        "075207ef6e9e4acd86f26abb797bba27": {
          "model_module": "@jupyter-widgets/base",
          "model_name": "LayoutModel",
          "state": {
            "_view_name": "LayoutView",
            "grid_template_rows": null,
            "right": null,
            "justify_content": null,
            "_view_module": "@jupyter-widgets/base",
            "overflow": null,
            "_model_module_version": "1.2.0",
            "_view_count": null,
            "flex_flow": null,
            "width": null,
            "min_width": null,
            "border": null,
            "align_items": null,
            "bottom": null,
            "_model_module": "@jupyter-widgets/base",
            "top": null,
            "grid_column": null,
            "overflow_y": null,
            "overflow_x": null,
            "grid_auto_flow": null,
            "grid_area": null,
            "grid_template_columns": null,
            "flex": null,
            "_model_name": "LayoutModel",
            "justify_items": null,
            "grid_row": null,
            "max_height": null,
            "align_content": null,
            "visibility": null,
            "align_self": null,
            "height": null,
            "min_height": null,
            "padding": null,
            "grid_auto_rows": null,
            "grid_gap": null,
            "max_width": null,
            "order": null,
            "_view_module_version": "1.2.0",
            "grid_template_areas": null,
            "object_position": null,
            "object_fit": null,
            "grid_auto_columns": null,
            "margin": null,
            "display": null,
            "left": null
          }
        },
        "8ca0c0ada2724c23a47a20cf9bf571b6": {
          "model_module": "@jupyter-widgets/controls",
          "model_name": "FloatProgressModel",
          "state": {
            "_view_name": "ProgressView",
            "style": "IPY_MODEL_a280b5c34d564c2baeec4460f0d3c7d7",
            "_dom_classes": [],
            "description": "Downloading: 100%",
            "_model_name": "FloatProgressModel",
            "bar_style": "success",
            "max": 456318,
            "_view_module": "@jupyter-widgets/controls",
            "_model_module_version": "1.5.0",
            "value": 456318,
            "_view_count": null,
            "_view_module_version": "1.5.0",
            "orientation": "horizontal",
            "min": 0,
            "description_tooltip": null,
            "_model_module": "@jupyter-widgets/controls",
            "layout": "IPY_MODEL_d3177b48d20e45238943afadb2b3d7f1"
          }
        },
        "d637df7bf2d647e9996f487f1fb5142e": {
          "model_module": "@jupyter-widgets/controls",
          "model_name": "HTMLModel",
          "state": {
            "_view_name": "HTMLView",
            "style": "IPY_MODEL_6c66537eef254cbd824df35d9faf9471",
            "_dom_classes": [],
            "description": "",
            "_model_name": "HTMLModel",
            "placeholder": "​",
            "_view_module": "@jupyter-widgets/controls",
            "_model_module_version": "1.5.0",
            "value": " 456k/456k [00:00&lt;00:00, 3.14MB/s]",
            "_view_count": null,
            "_view_module_version": "1.5.0",
            "description_tooltip": null,
            "_model_module": "@jupyter-widgets/controls",
            "layout": "IPY_MODEL_153d3595ba0a42018a1c5da38a592b66"
          }
        },
        "a280b5c34d564c2baeec4460f0d3c7d7": {
          "model_module": "@jupyter-widgets/controls",
          "model_name": "ProgressStyleModel",
          "state": {
            "_view_name": "StyleView",
            "_model_name": "ProgressStyleModel",
            "description_width": "initial",
            "_view_module": "@jupyter-widgets/base",
            "_model_module_version": "1.5.0",
            "_view_count": null,
            "_view_module_version": "1.2.0",
            "bar_color": null,
            "_model_module": "@jupyter-widgets/controls"
          }
        },
        "d3177b48d20e45238943afadb2b3d7f1": {
          "model_module": "@jupyter-widgets/base",
          "model_name": "LayoutModel",
          "state": {
            "_view_name": "LayoutView",
            "grid_template_rows": null,
            "right": null,
            "justify_content": null,
            "_view_module": "@jupyter-widgets/base",
            "overflow": null,
            "_model_module_version": "1.2.0",
            "_view_count": null,
            "flex_flow": null,
            "width": null,
            "min_width": null,
            "border": null,
            "align_items": null,
            "bottom": null,
            "_model_module": "@jupyter-widgets/base",
            "top": null,
            "grid_column": null,
            "overflow_y": null,
            "overflow_x": null,
            "grid_auto_flow": null,
            "grid_area": null,
            "grid_template_columns": null,
            "flex": null,
            "_model_name": "LayoutModel",
            "justify_items": null,
            "grid_row": null,
            "max_height": null,
            "align_content": null,
            "visibility": null,
            "align_self": null,
            "height": null,
            "min_height": null,
            "padding": null,
            "grid_auto_rows": null,
            "grid_gap": null,
            "max_width": null,
            "order": null,
            "_view_module_version": "1.2.0",
            "grid_template_areas": null,
            "object_position": null,
            "object_fit": null,
            "grid_auto_columns": null,
            "margin": null,
            "display": null,
            "left": null
          }
        },
        "6c66537eef254cbd824df35d9faf9471": {
          "model_module": "@jupyter-widgets/controls",
          "model_name": "DescriptionStyleModel",
          "state": {
            "_view_name": "StyleView",
            "_model_name": "DescriptionStyleModel",
            "description_width": "",
            "_view_module": "@jupyter-widgets/base",
            "_model_module_version": "1.5.0",
            "_view_count": null,
            "_view_module_version": "1.2.0",
            "_model_module": "@jupyter-widgets/controls"
          }
        },
        "153d3595ba0a42018a1c5da38a592b66": {
          "model_module": "@jupyter-widgets/base",
          "model_name": "LayoutModel",
          "state": {
            "_view_name": "LayoutView",
            "grid_template_rows": null,
            "right": null,
            "justify_content": null,
            "_view_module": "@jupyter-widgets/base",
            "overflow": null,
            "_model_module_version": "1.2.0",
            "_view_count": null,
            "flex_flow": null,
            "width": null,
            "min_width": null,
            "border": null,
            "align_items": null,
            "bottom": null,
            "_model_module": "@jupyter-widgets/base",
            "top": null,
            "grid_column": null,
            "overflow_y": null,
            "overflow_x": null,
            "grid_auto_flow": null,
            "grid_area": null,
            "grid_template_columns": null,
            "flex": null,
            "_model_name": "LayoutModel",
            "justify_items": null,
            "grid_row": null,
            "max_height": null,
            "align_content": null,
            "visibility": null,
            "align_self": null,
            "height": null,
            "min_height": null,
            "padding": null,
            "grid_auto_rows": null,
            "grid_gap": null,
            "max_width": null,
            "order": null,
            "_view_module_version": "1.2.0",
            "grid_template_areas": null,
            "object_position": null,
            "object_fit": null,
            "grid_auto_columns": null,
            "margin": null,
            "display": null,
            "left": null
          }
        },
        "d56da84c084c4ec19e158f870a0c04e0": {
          "model_module": "@jupyter-widgets/controls",
          "model_name": "HBoxModel",
          "state": {
            "_view_name": "HBoxView",
            "_dom_classes": [],
            "_model_name": "HBoxModel",
            "_view_module": "@jupyter-widgets/controls",
            "_model_module_version": "1.5.0",
            "_view_count": null,
            "_view_module_version": "1.5.0",
            "box_style": "",
            "layout": "IPY_MODEL_1bdfa000cae345679445420f309267f4",
            "_model_module": "@jupyter-widgets/controls",
            "children": [
              "IPY_MODEL_705445458ec24b7eb9969e5cb9be79ba",
              "IPY_MODEL_8a37a1aae7774372adfeec085dc46b46"
            ]
          }
        },
        "1bdfa000cae345679445420f309267f4": {
          "model_module": "@jupyter-widgets/base",
          "model_name": "LayoutModel",
          "state": {
            "_view_name": "LayoutView",
            "grid_template_rows": null,
            "right": null,
            "justify_content": null,
            "_view_module": "@jupyter-widgets/base",
            "overflow": null,
            "_model_module_version": "1.2.0",
            "_view_count": null,
            "flex_flow": null,
            "width": null,
            "min_width": null,
            "border": null,
            "align_items": null,
            "bottom": null,
            "_model_module": "@jupyter-widgets/base",
            "top": null,
            "grid_column": null,
            "overflow_y": null,
            "overflow_x": null,
            "grid_auto_flow": null,
            "grid_area": null,
            "grid_template_columns": null,
            "flex": null,
            "_model_name": "LayoutModel",
            "justify_items": null,
            "grid_row": null,
            "max_height": null,
            "align_content": null,
            "visibility": null,
            "align_self": null,
            "height": null,
            "min_height": null,
            "padding": null,
            "grid_auto_rows": null,
            "grid_gap": null,
            "max_width": null,
            "order": null,
            "_view_module_version": "1.2.0",
            "grid_template_areas": null,
            "object_position": null,
            "object_fit": null,
            "grid_auto_columns": null,
            "margin": null,
            "display": null,
            "left": null
          }
        },
        "705445458ec24b7eb9969e5cb9be79ba": {
          "model_module": "@jupyter-widgets/controls",
          "model_name": "FloatProgressModel",
          "state": {
            "_view_name": "ProgressView",
            "style": "IPY_MODEL_91d503c056b943d5869ad4afde8526f9",
            "_dom_classes": [],
            "description": "Downloading: 100%",
            "_model_name": "FloatProgressModel",
            "bar_style": "success",
            "max": 1629486723,
            "_view_module": "@jupyter-widgets/controls",
            "_model_module_version": "1.5.0",
            "value": 1629486723,
            "_view_count": null,
            "_view_module_version": "1.5.0",
            "orientation": "horizontal",
            "min": 0,
            "description_tooltip": null,
            "_model_module": "@jupyter-widgets/controls",
            "layout": "IPY_MODEL_b18a8e88d6fe40d4990306845dfbb125"
          }
        },
        "8a37a1aae7774372adfeec085dc46b46": {
          "model_module": "@jupyter-widgets/controls",
          "model_name": "HTMLModel",
          "state": {
            "_view_name": "HTMLView",
            "style": "IPY_MODEL_fdbf80a104174af9a14283a4d6ed96a0",
            "_dom_classes": [],
            "description": "",
            "_model_name": "HTMLModel",
            "placeholder": "​",
            "_view_module": "@jupyter-widgets/controls",
            "_model_module_version": "1.5.0",
            "value": " 1.63G/1.63G [01:07&lt;00:00, 24.1MB/s]",
            "_view_count": null,
            "_view_module_version": "1.5.0",
            "description_tooltip": null,
            "_model_module": "@jupyter-widgets/controls",
            "layout": "IPY_MODEL_c5da2e8645b74378891413486a953917"
          }
        },
        "91d503c056b943d5869ad4afde8526f9": {
          "model_module": "@jupyter-widgets/controls",
          "model_name": "ProgressStyleModel",
          "state": {
            "_view_name": "StyleView",
            "_model_name": "ProgressStyleModel",
            "description_width": "initial",
            "_view_module": "@jupyter-widgets/base",
            "_model_module_version": "1.5.0",
            "_view_count": null,
            "_view_module_version": "1.2.0",
            "bar_color": null,
            "_model_module": "@jupyter-widgets/controls"
          }
        },
        "b18a8e88d6fe40d4990306845dfbb125": {
          "model_module": "@jupyter-widgets/base",
          "model_name": "LayoutModel",
          "state": {
            "_view_name": "LayoutView",
            "grid_template_rows": null,
            "right": null,
            "justify_content": null,
            "_view_module": "@jupyter-widgets/base",
            "overflow": null,
            "_model_module_version": "1.2.0",
            "_view_count": null,
            "flex_flow": null,
            "width": null,
            "min_width": null,
            "border": null,
            "align_items": null,
            "bottom": null,
            "_model_module": "@jupyter-widgets/base",
            "top": null,
            "grid_column": null,
            "overflow_y": null,
            "overflow_x": null,
            "grid_auto_flow": null,
            "grid_area": null,
            "grid_template_columns": null,
            "flex": null,
            "_model_name": "LayoutModel",
            "justify_items": null,
            "grid_row": null,
            "max_height": null,
            "align_content": null,
            "visibility": null,
            "align_self": null,
            "height": null,
            "min_height": null,
            "padding": null,
            "grid_auto_rows": null,
            "grid_gap": null,
            "max_width": null,
            "order": null,
            "_view_module_version": "1.2.0",
            "grid_template_areas": null,
            "object_position": null,
            "object_fit": null,
            "grid_auto_columns": null,
            "margin": null,
            "display": null,
            "left": null
          }
        },
        "fdbf80a104174af9a14283a4d6ed96a0": {
          "model_module": "@jupyter-widgets/controls",
          "model_name": "DescriptionStyleModel",
          "state": {
            "_view_name": "StyleView",
            "_model_name": "DescriptionStyleModel",
            "description_width": "",
            "_view_module": "@jupyter-widgets/base",
            "_model_module_version": "1.5.0",
            "_view_count": null,
            "_view_module_version": "1.2.0",
            "_model_module": "@jupyter-widgets/controls"
          }
        },
        "c5da2e8645b74378891413486a953917": {
          "model_module": "@jupyter-widgets/base",
          "model_name": "LayoutModel",
          "state": {
            "_view_name": "LayoutView",
            "grid_template_rows": null,
            "right": null,
            "justify_content": null,
            "_view_module": "@jupyter-widgets/base",
            "overflow": null,
            "_model_module_version": "1.2.0",
            "_view_count": null,
            "flex_flow": null,
            "width": null,
            "min_width": null,
            "border": null,
            "align_items": null,
            "bottom": null,
            "_model_module": "@jupyter-widgets/base",
            "top": null,
            "grid_column": null,
            "overflow_y": null,
            "overflow_x": null,
            "grid_auto_flow": null,
            "grid_area": null,
            "grid_template_columns": null,
            "flex": null,
            "_model_name": "LayoutModel",
            "justify_items": null,
            "grid_row": null,
            "max_height": null,
            "align_content": null,
            "visibility": null,
            "align_self": null,
            "height": null,
            "min_height": null,
            "padding": null,
            "grid_auto_rows": null,
            "grid_gap": null,
            "max_width": null,
            "order": null,
            "_view_module_version": "1.2.0",
            "grid_template_areas": null,
            "object_position": null,
            "object_fit": null,
            "grid_auto_columns": null,
            "margin": null,
            "display": null,
            "left": null
          }
        }
      }
    }
  },
  "cells": [
    {
      "cell_type": "markdown",
      "metadata": {
        "id": "view-in-github",
        "colab_type": "text"
      },
      "source": [
        "<a href=\"https://colab.research.google.com/github/Fackor/Advanced_Machine_Learning_Course/blob/main/Zero_Shot_Pipeline_for_NER.ipynb\" target=\"_parent\"><img src=\"https://colab.research.google.com/assets/colab-badge.svg\" alt=\"Open In Colab\"/></a>"
      ]
    },
    {
      "cell_type": "code",
      "metadata": {
        "id": "yTBP_QYuu6tc",
        "colab": {
          "base_uri": "https://localhost:8080/"
        },
        "outputId": "e0314c4e-289f-4dcf-b875-5fbefe109ff5"
      },
      "source": [
        "!pip install transformers==3.1.0"
      ],
      "execution_count": 1,
      "outputs": [
        {
          "output_type": "stream",
          "text": [
            "Collecting transformers==3.1.0\n",
            "\u001b[?25l  Downloading https://files.pythonhosted.org/packages/ae/05/c8c55b600308dc04e95100dc8ad8a244dd800fe75dfafcf1d6348c6f6209/transformers-3.1.0-py3-none-any.whl (884kB)\n",
            "\r\u001b[K     |▍                               | 10kB 15.8MB/s eta 0:00:01\r\u001b[K     |▊                               | 20kB 16.0MB/s eta 0:00:01\r\u001b[K     |█▏                              | 30kB 9.7MB/s eta 0:00:01\r\u001b[K     |█▌                              | 40kB 8.2MB/s eta 0:00:01\r\u001b[K     |█▉                              | 51kB 4.3MB/s eta 0:00:01\r\u001b[K     |██▎                             | 61kB 4.8MB/s eta 0:00:01\r\u001b[K     |██▋                             | 71kB 5.2MB/s eta 0:00:01\r\u001b[K     |███                             | 81kB 5.3MB/s eta 0:00:01\r\u001b[K     |███▍                            | 92kB 5.6MB/s eta 0:00:01\r\u001b[K     |███▊                            | 102kB 5.9MB/s eta 0:00:01\r\u001b[K     |████                            | 112kB 5.9MB/s eta 0:00:01\r\u001b[K     |████▌                           | 122kB 5.9MB/s eta 0:00:01\r\u001b[K     |████▉                           | 133kB 5.9MB/s eta 0:00:01\r\u001b[K     |█████▏                          | 143kB 5.9MB/s eta 0:00:01\r\u001b[K     |█████▋                          | 153kB 5.9MB/s eta 0:00:01\r\u001b[K     |██████                          | 163kB 5.9MB/s eta 0:00:01\r\u001b[K     |██████▎                         | 174kB 5.9MB/s eta 0:00:01\r\u001b[K     |██████▊                         | 184kB 5.9MB/s eta 0:00:01\r\u001b[K     |███████                         | 194kB 5.9MB/s eta 0:00:01\r\u001b[K     |███████▍                        | 204kB 5.9MB/s eta 0:00:01\r\u001b[K     |███████▉                        | 215kB 5.9MB/s eta 0:00:01\r\u001b[K     |████████▏                       | 225kB 5.9MB/s eta 0:00:01\r\u001b[K     |████████▌                       | 235kB 5.9MB/s eta 0:00:01\r\u001b[K     |█████████                       | 245kB 5.9MB/s eta 0:00:01\r\u001b[K     |█████████▎                      | 256kB 5.9MB/s eta 0:00:01\r\u001b[K     |█████████▋                      | 266kB 5.9MB/s eta 0:00:01\r\u001b[K     |██████████                      | 276kB 5.9MB/s eta 0:00:01\r\u001b[K     |██████████▍                     | 286kB 5.9MB/s eta 0:00:01\r\u001b[K     |██████████▊                     | 296kB 5.9MB/s eta 0:00:01\r\u001b[K     |███████████▏                    | 307kB 5.9MB/s eta 0:00:01\r\u001b[K     |███████████▌                    | 317kB 5.9MB/s eta 0:00:01\r\u001b[K     |███████████▉                    | 327kB 5.9MB/s eta 0:00:01\r\u001b[K     |████████████▎                   | 337kB 5.9MB/s eta 0:00:01\r\u001b[K     |████████████▋                   | 348kB 5.9MB/s eta 0:00:01\r\u001b[K     |█████████████                   | 358kB 5.9MB/s eta 0:00:01\r\u001b[K     |█████████████▍                  | 368kB 5.9MB/s eta 0:00:01\r\u001b[K     |█████████████▊                  | 378kB 5.9MB/s eta 0:00:01\r\u001b[K     |██████████████                  | 389kB 5.9MB/s eta 0:00:01\r\u001b[K     |██████████████▌                 | 399kB 5.9MB/s eta 0:00:01\r\u001b[K     |██████████████▉                 | 409kB 5.9MB/s eta 0:00:01\r\u001b[K     |███████████████▏                | 419kB 5.9MB/s eta 0:00:01\r\u001b[K     |███████████████▋                | 430kB 5.9MB/s eta 0:00:01\r\u001b[K     |████████████████                | 440kB 5.9MB/s eta 0:00:01\r\u001b[K     |████████████████▎               | 450kB 5.9MB/s eta 0:00:01\r\u001b[K     |████████████████▊               | 460kB 5.9MB/s eta 0:00:01\r\u001b[K     |█████████████████               | 471kB 5.9MB/s eta 0:00:01\r\u001b[K     |█████████████████▍              | 481kB 5.9MB/s eta 0:00:01\r\u001b[K     |█████████████████▉              | 491kB 5.9MB/s eta 0:00:01\r\u001b[K     |██████████████████▏             | 501kB 5.9MB/s eta 0:00:01\r\u001b[K     |██████████████████▌             | 512kB 5.9MB/s eta 0:00:01\r\u001b[K     |███████████████████             | 522kB 5.9MB/s eta 0:00:01\r\u001b[K     |███████████████████▎            | 532kB 5.9MB/s eta 0:00:01\r\u001b[K     |███████████████████▋            | 542kB 5.9MB/s eta 0:00:01\r\u001b[K     |████████████████████            | 552kB 5.9MB/s eta 0:00:01\r\u001b[K     |████████████████████▍           | 563kB 5.9MB/s eta 0:00:01\r\u001b[K     |████████████████████▊           | 573kB 5.9MB/s eta 0:00:01\r\u001b[K     |█████████████████████▏          | 583kB 5.9MB/s eta 0:00:01\r\u001b[K     |█████████████████████▌          | 593kB 5.9MB/s eta 0:00:01\r\u001b[K     |█████████████████████▉          | 604kB 5.9MB/s eta 0:00:01\r\u001b[K     |██████████████████████▎         | 614kB 5.9MB/s eta 0:00:01\r\u001b[K     |██████████████████████▋         | 624kB 5.9MB/s eta 0:00:01\r\u001b[K     |███████████████████████         | 634kB 5.9MB/s eta 0:00:01\r\u001b[K     |███████████████████████▍        | 645kB 5.9MB/s eta 0:00:01\r\u001b[K     |███████████████████████▊        | 655kB 5.9MB/s eta 0:00:01\r\u001b[K     |████████████████████████        | 665kB 5.9MB/s eta 0:00:01\r\u001b[K     |████████████████████████▌       | 675kB 5.9MB/s eta 0:00:01\r\u001b[K     |████████████████████████▉       | 686kB 5.9MB/s eta 0:00:01\r\u001b[K     |█████████████████████████▏      | 696kB 5.9MB/s eta 0:00:01\r\u001b[K     |█████████████████████████▋      | 706kB 5.9MB/s eta 0:00:01\r\u001b[K     |██████████████████████████      | 716kB 5.9MB/s eta 0:00:01\r\u001b[K     |██████████████████████████▎     | 727kB 5.9MB/s eta 0:00:01\r\u001b[K     |██████████████████████████▊     | 737kB 5.9MB/s eta 0:00:01\r\u001b[K     |███████████████████████████     | 747kB 5.9MB/s eta 0:00:01\r\u001b[K     |███████████████████████████▍    | 757kB 5.9MB/s eta 0:00:01\r\u001b[K     |███████████████████████████▉    | 768kB 5.9MB/s eta 0:00:01\r\u001b[K     |████████████████████████████▏   | 778kB 5.9MB/s eta 0:00:01\r\u001b[K     |████████████████████████████▌   | 788kB 5.9MB/s eta 0:00:01\r\u001b[K     |█████████████████████████████   | 798kB 5.9MB/s eta 0:00:01\r\u001b[K     |█████████████████████████████▎  | 808kB 5.9MB/s eta 0:00:01\r\u001b[K     |█████████████████████████████▋  | 819kB 5.9MB/s eta 0:00:01\r\u001b[K     |██████████████████████████████  | 829kB 5.9MB/s eta 0:00:01\r\u001b[K     |██████████████████████████████▍ | 839kB 5.9MB/s eta 0:00:01\r\u001b[K     |██████████████████████████████▊ | 849kB 5.9MB/s eta 0:00:01\r\u001b[K     |███████████████████████████████▏| 860kB 5.9MB/s eta 0:00:01\r\u001b[K     |███████████████████████████████▌| 870kB 5.9MB/s eta 0:00:01\r\u001b[K     |███████████████████████████████▉| 880kB 5.9MB/s eta 0:00:01\r\u001b[K     |████████████████████████████████| 890kB 5.9MB/s \n",
            "\u001b[?25hRequirement already satisfied: numpy in /usr/local/lib/python3.6/dist-packages (from transformers==3.1.0) (1.18.5)\n",
            "Requirement already satisfied: regex!=2019.12.17 in /usr/local/lib/python3.6/dist-packages (from transformers==3.1.0) (2019.12.20)\n",
            "Requirement already satisfied: dataclasses; python_version < \"3.7\" in /usr/local/lib/python3.6/dist-packages (from transformers==3.1.0) (0.8)\n",
            "Requirement already satisfied: packaging in /usr/local/lib/python3.6/dist-packages (from transformers==3.1.0) (20.4)\n",
            "Collecting sentencepiece!=0.1.92\n",
            "\u001b[?25l  Downloading https://files.pythonhosted.org/packages/e5/2d/6d4ca4bef9a67070fa1cac508606328329152b1df10bdf31fb6e4e727894/sentencepiece-0.1.94-cp36-cp36m-manylinux2014_x86_64.whl (1.1MB)\n",
            "\u001b[K     |████████████████████████████████| 1.1MB 28.7MB/s \n",
            "\u001b[?25hCollecting tokenizers==0.8.1.rc2\n",
            "\u001b[?25l  Downloading https://files.pythonhosted.org/packages/80/83/8b9fccb9e48eeb575ee19179e2bdde0ee9a1904f97de5f02d19016b8804f/tokenizers-0.8.1rc2-cp36-cp36m-manylinux1_x86_64.whl (3.0MB)\n",
            "\u001b[K     |████████████████████████████████| 3.0MB 40.0MB/s \n",
            "\u001b[?25hRequirement already satisfied: filelock in /usr/local/lib/python3.6/dist-packages (from transformers==3.1.0) (3.0.12)\n",
            "Collecting sacremoses\n",
            "\u001b[?25l  Downloading https://files.pythonhosted.org/packages/7d/34/09d19aff26edcc8eb2a01bed8e98f13a1537005d31e95233fd48216eed10/sacremoses-0.0.43.tar.gz (883kB)\n",
            "\u001b[K     |████████████████████████████████| 890kB 42.1MB/s \n",
            "\u001b[?25hRequirement already satisfied: requests in /usr/local/lib/python3.6/dist-packages (from transformers==3.1.0) (2.23.0)\n",
            "Requirement already satisfied: tqdm>=4.27 in /usr/local/lib/python3.6/dist-packages (from transformers==3.1.0) (4.41.1)\n",
            "Requirement already satisfied: pyparsing>=2.0.2 in /usr/local/lib/python3.6/dist-packages (from packaging->transformers==3.1.0) (2.4.7)\n",
            "Requirement already satisfied: six in /usr/local/lib/python3.6/dist-packages (from packaging->transformers==3.1.0) (1.15.0)\n",
            "Requirement already satisfied: click in /usr/local/lib/python3.6/dist-packages (from sacremoses->transformers==3.1.0) (7.1.2)\n",
            "Requirement already satisfied: joblib in /usr/local/lib/python3.6/dist-packages (from sacremoses->transformers==3.1.0) (0.17.0)\n",
            "Requirement already satisfied: urllib3!=1.25.0,!=1.25.1,<1.26,>=1.21.1 in /usr/local/lib/python3.6/dist-packages (from requests->transformers==3.1.0) (1.24.3)\n",
            "Requirement already satisfied: chardet<4,>=3.0.2 in /usr/local/lib/python3.6/dist-packages (from requests->transformers==3.1.0) (3.0.4)\n",
            "Requirement already satisfied: certifi>=2017.4.17 in /usr/local/lib/python3.6/dist-packages (from requests->transformers==3.1.0) (2020.11.8)\n",
            "Requirement already satisfied: idna<3,>=2.5 in /usr/local/lib/python3.6/dist-packages (from requests->transformers==3.1.0) (2.10)\n",
            "Building wheels for collected packages: sacremoses\n",
            "  Building wheel for sacremoses (setup.py) ... \u001b[?25l\u001b[?25hdone\n",
            "  Created wheel for sacremoses: filename=sacremoses-0.0.43-cp36-none-any.whl size=893257 sha256=0a4b2b841b5f525ded723d4a3b9a4bbdd94f9d89558c8fc78fde4e874fe13777\n",
            "  Stored in directory: /root/.cache/pip/wheels/29/3c/fd/7ce5c3f0666dab31a50123635e6fb5e19ceb42ce38d4e58f45\n",
            "Successfully built sacremoses\n",
            "Installing collected packages: sentencepiece, tokenizers, sacremoses, transformers\n",
            "Successfully installed sacremoses-0.0.43 sentencepiece-0.1.94 tokenizers-0.8.1rc2 transformers-3.1.0\n"
          ],
          "name": "stdout"
        }
      ]
    },
    {
      "cell_type": "code",
      "metadata": {
        "id": "TiU_ES5tzpMH"
      },
      "source": [
        "from transformers import pipeline"
      ],
      "execution_count": 2,
      "outputs": []
    },
    {
      "cell_type": "code",
      "metadata": {
        "id": "spkccRiv0CB3",
        "colab": {
          "base_uri": "https://localhost:8080/",
          "height": 299,
          "referenced_widgets": [
            "96a4d2b0f0e6494f96aba0ba642297c0",
            "440156cbc35b404ca9e29661eeb18267",
            "14b390560e6c48f49546845b0976fc06",
            "bded5c1cd4084885847863b6ed955171",
            "9400a3ffd5a84906bed229966c04613c",
            "616e64863df443eaa56b6a3b49178286",
            "69a134859ff14dcd93b7ce602978d655",
            "6ba8e480a1f245ac8fc1fda0a0b68c4c",
            "ce6d648b69014c398ed9662a0b400bd6",
            "3df8de8830384acd9d58bc1e300e9d41",
            "8581028345ff4023ac463fe11ea0b877",
            "660fb604854543c2993f5644bd9079b3",
            "85772aa86ebd45cd80dc384c533caf45",
            "17e6abfe5e81456781fece62d0528946",
            "fa413ebde770464ba01b4fb50b2a1e3e",
            "5283a66b069e43028d5e25ad544cd30c",
            "098ec492ac514362adba11c6b6324a75",
            "075207ef6e9e4acd86f26abb797bba27",
            "8ca0c0ada2724c23a47a20cf9bf571b6",
            "d637df7bf2d647e9996f487f1fb5142e",
            "a280b5c34d564c2baeec4460f0d3c7d7",
            "d3177b48d20e45238943afadb2b3d7f1",
            "6c66537eef254cbd824df35d9faf9471",
            "153d3595ba0a42018a1c5da38a592b66",
            "d56da84c084c4ec19e158f870a0c04e0",
            "1bdfa000cae345679445420f309267f4",
            "705445458ec24b7eb9969e5cb9be79ba",
            "8a37a1aae7774372adfeec085dc46b46",
            "91d503c056b943d5869ad4afde8526f9",
            "b18a8e88d6fe40d4990306845dfbb125",
            "fdbf80a104174af9a14283a4d6ed96a0",
            "c5da2e8645b74378891413486a953917"
          ]
        },
        "outputId": "c3c3a82e-2a9d-47b4-8ae6-52067ddb3fa6"
      },
      "source": [
        "#classifier = pipeline(\"zero-shot-classification\")\n",
        "classifier = pipeline(\"zero-shot-classification\", device=0) # to utilize GPU"
      ],
      "execution_count": 3,
      "outputs": [
        {
          "output_type": "display_data",
          "data": {
            "application/vnd.jupyter.widget-view+json": {
              "model_id": "96a4d2b0f0e6494f96aba0ba642297c0",
              "version_minor": 0,
              "version_major": 2
            },
            "text/plain": [
              "HBox(children=(FloatProgress(value=0.0, description='Downloading', max=908.0, style=ProgressStyle(description_…"
            ]
          },
          "metadata": {
            "tags": []
          }
        },
        {
          "output_type": "stream",
          "text": [
            "\n"
          ],
          "name": "stdout"
        },
        {
          "output_type": "display_data",
          "data": {
            "application/vnd.jupyter.widget-view+json": {
              "model_id": "ce6d648b69014c398ed9662a0b400bd6",
              "version_minor": 0,
              "version_major": 2
            },
            "text/plain": [
              "HBox(children=(FloatProgress(value=0.0, description='Downloading', max=898823.0, style=ProgressStyle(descripti…"
            ]
          },
          "metadata": {
            "tags": []
          }
        },
        {
          "output_type": "stream",
          "text": [
            "\n"
          ],
          "name": "stdout"
        },
        {
          "output_type": "display_data",
          "data": {
            "application/vnd.jupyter.widget-view+json": {
              "model_id": "098ec492ac514362adba11c6b6324a75",
              "version_minor": 0,
              "version_major": 2
            },
            "text/plain": [
              "HBox(children=(FloatProgress(value=0.0, description='Downloading', max=456318.0, style=ProgressStyle(descripti…"
            ]
          },
          "metadata": {
            "tags": []
          }
        },
        {
          "output_type": "stream",
          "text": [
            "\n"
          ],
          "name": "stdout"
        },
        {
          "output_type": "display_data",
          "data": {
            "application/vnd.jupyter.widget-view+json": {
              "model_id": "d56da84c084c4ec19e158f870a0c04e0",
              "version_minor": 0,
              "version_major": 2
            },
            "text/plain": [
              "HBox(children=(FloatProgress(value=0.0, description='Downloading', max=1629486723.0, style=ProgressStyle(descr…"
            ]
          },
          "metadata": {
            "tags": []
          }
        },
        {
          "output_type": "stream",
          "text": [
            "\n"
          ],
          "name": "stdout"
        },
        {
          "output_type": "stream",
          "text": [
            "Some weights of the model checkpoint at facebook/bart-large-mnli were not used when initializing BartForSequenceClassification: ['model.encoder.version', 'model.decoder.version']\n",
            "- This IS expected if you are initializing BartForSequenceClassification from the checkpoint of a model trained on another task or with another architecture (e.g. initializing a BertForSequenceClassification model from a BertForPretraining model).\n",
            "- This IS NOT expected if you are initializing BartForSequenceClassification from the checkpoint of a model that you expect to be exactly identical (initializing a BertForSequenceClassification model from a BertForSequenceClassification model).\n"
          ],
          "name": "stderr"
        }
      ]
    },
    {
      "cell_type": "code",
      "metadata": {
        "id": "w8KjtUuju77u"
      },
      "source": [
        "def zeroshot_NER(paragraph, candidate_labels, threshold):\n",
        "  words = [word.lower() for word in paragraph.split() if word.isalpha()]\n",
        "  NER = []\n",
        "  for word in words:\n",
        "    output = classifier(word, candidate_labels)\n",
        "\n",
        "    label =  output['labels'][0] if output['scores'][0] > threshold else '[UNK]'\n",
        "    NER.append([word, label])\n",
        "\n",
        "  return NER  "
      ],
      "execution_count": 6,
      "outputs": []
    },
    {
      "cell_type": "code",
      "metadata": {
        "id": "hkfE6NRA0Dzy"
      },
      "source": [
        "sequence = input(\"Enter a paragraph to do NER on.\")\n",
        "candidate_labels = input(\"Enter candidate labels separated by double colon(::).\").split(\"::\")\n",
        "candidate_labels.append('[UNK]')\n",
        "\n",
        "NER = zeroshot_NER(sequence, candidate_labels, 0.4)\n",
        "for each in NER:\n",
        "  print(f\"{each[0]}<{each[1]}>\", end=\" \")"
      ],
      "execution_count": null,
      "outputs": []
    },
    {
      "cell_type": "code",
      "metadata": {
        "id": "ZU_gJaoWfYGL",
        "colab": {
          "base_uri": "https://localhost:8080/"
        },
        "outputId": "a0f89733-f254-4f39-a15a-56936fabe5d8"
      },
      "source": [
        "from sklearn.metrics import f1_score\n",
        "from tqdm import tqdm\n",
        "\n",
        "candidate_labels = ['Person', 'Organization', 'Location', 'Miscellaneous', '[UNK]']\n",
        "\n",
        "label_maps = {'Person' : 'PER',\n",
        "              'Organization' : 'ORG',\n",
        "              'Location' : 'LOC',\n",
        "              'Miscellaneous': 'MISC', \n",
        "              '[UNK]' : 'O'}\n",
        "\n",
        "other_label_map = {'B-ORG' : 'ORG',\n",
        "                   'I-ORG' : 'ORG',\n",
        "                   'B-PER' : 'PER',\n",
        "                   'I-PER' : 'PER',\n",
        "                   'B-LOC' : 'LOC',\n",
        "                   'I-LOC' : 'LOC',\n",
        "                   'B-MISC' : 'MISC',\n",
        "                   'I-MISC' : 'MISC',\n",
        "                   'O' : 'O'}\n",
        "\n",
        "result = {}\n",
        "\n",
        "predictions = []\n",
        "labels = []\n",
        "\n",
        "with open('/content/test.txt') as f:\n",
        "  for i, line in tqdm(enumerate(f)):\n",
        "    if i == 0:\n",
        "        continue\n",
        "    line = line.split()\n",
        "    if len(line) > 0 and line[0].isalpha():\n",
        "      word = line[0]\n",
        "      label = other_label_map[line[3]]\n",
        "      labels.append(label)\n",
        "      \n",
        "      #print(line)\n",
        "      #print(word)\n",
        "      \n",
        "      out = zeroshot_NER(word, candidate_labels, 0.5)\n",
        "\n",
        "      predictions.append(label_maps[out[0][1]])\n",
        "\n",
        "\n",
        "for label in label_maps.values():\n",
        "  pred = [x == label for x in predictions]\n",
        "  true = [x == label for x in labels]\n",
        "  result[label] = f1_score(true, pred, average='binary')\n",
        "\n",
        "print(result)"
      ],
      "execution_count": 29,
      "outputs": [
        {
          "output_type": "stream",
          "text": [
            "50350it [22:49, 36.76it/s]\n"
          ],
          "name": "stderr"
        },
        {
          "output_type": "stream",
          "text": [
            "{'PER': 0.2156064461407973, 'ORG': 0.036968576709796676, 'LOC': 0.3058277462609592, 'MISC': 0.005212858384013901, 'O': 0.7298355194669998}\n"
          ],
          "name": "stdout"
        }
      ]
    },
    {
      "cell_type": "code",
      "metadata": {
        "id": "NDYPUdOApm5_"
      },
      "source": [
        ""
      ],
      "execution_count": null,
      "outputs": []
    }
  ]
}